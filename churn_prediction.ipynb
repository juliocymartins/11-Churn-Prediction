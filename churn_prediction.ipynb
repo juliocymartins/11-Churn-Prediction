{
 "cells": [
  {
   "cell_type": "markdown",
   "metadata": {},
   "source": [
    "# Summary\n",
    "\n",
    "### Chapter 1: Exploratory Data Analysis\n",
    "- 1.1: Importing Data and First Look\n",
    "- 1.2: Checking Null Values\n",
    "- 1.3: Checking Data Types \n",
    "- 1.4: Visual Analysis\n",
    "\n",
    "### Chapter 2: Data Wrangling\n",
    "- 2.1: Converting Types\n",
    "- 2.2: Handling White Spaces\n",
    "- 2.3: One-Hot Encoding\n",
    "- 2.4: Min Max Scaler\n",
    "- 2.5: Correlations\n",
    "- 2.6: Train Test Split\n",
    "\n",
    "### Chapter 3: Building Machine Learning Models\n",
    "- 3.1: Logistic Regression\n",
    "- 3.2: Random Forest\n",
    "- 3.3: Gradient Boosting\n",
    "- 3.4: SVC (Support Vector Classifier)\n",
    "- 3.5: Shallow Neural Network\n",
    "\n",
    "### Chapter 4: Testing Models and Conclusion\n",
    "- 4.1: Testing Model\n",
    "- 4.2: Conclusion"
   ]
  },
  {
   "cell_type": "markdown",
   "metadata": {},
   "source": [
    "# Chapter 1: Exploratory Data Analysis\n",
    "\n",
    "In this section, we take a close look at our data to understand what it can tell us. \n",
    "\n",
    "This step is crucial for getting to know our data better before we dive into more advanced techniques."
   ]
  },
  {
   "cell_type": "markdown",
   "metadata": {},
   "source": [
    "### 1.1: Importing Data and First Look\n",
    "\n",
    "Let's start by importing our data from a '.csv' file using the Pandas library, so we can view our data and perform an initial analysis on it."
   ]
  },
  {
   "cell_type": "code",
   "execution_count": 478,
   "metadata": {},
   "outputs": [],
   "source": [
    "import pandas as pd\n",
    "import matplotlib.pyplot as plt\n",
    "import seaborn as sns\n",
    "import numpy as np"
   ]
  },
  {
   "cell_type": "code",
   "execution_count": 479,
   "metadata": {},
   "outputs": [
    {
     "data": {
      "text/html": [
       "<div>\n",
       "<style scoped>\n",
       "    .dataframe tbody tr th:only-of-type {\n",
       "        vertical-align: middle;\n",
       "    }\n",
       "\n",
       "    .dataframe tbody tr th {\n",
       "        vertical-align: top;\n",
       "    }\n",
       "\n",
       "    .dataframe thead th {\n",
       "        text-align: right;\n",
       "    }\n",
       "</style>\n",
       "<table border=\"1\" class=\"dataframe\">\n",
       "  <thead>\n",
       "    <tr style=\"text-align: right;\">\n",
       "      <th></th>\n",
       "      <th>customerID</th>\n",
       "      <th>gender</th>\n",
       "      <th>SeniorCitizen</th>\n",
       "      <th>Partner</th>\n",
       "      <th>Dependents</th>\n",
       "      <th>tenure</th>\n",
       "      <th>PhoneService</th>\n",
       "      <th>MultipleLines</th>\n",
       "      <th>InternetService</th>\n",
       "      <th>OnlineSecurity</th>\n",
       "      <th>...</th>\n",
       "      <th>DeviceProtection</th>\n",
       "      <th>TechSupport</th>\n",
       "      <th>StreamingTV</th>\n",
       "      <th>StreamingMovies</th>\n",
       "      <th>Contract</th>\n",
       "      <th>PaperlessBilling</th>\n",
       "      <th>PaymentMethod</th>\n",
       "      <th>MonthlyCharges</th>\n",
       "      <th>TotalCharges</th>\n",
       "      <th>Churn</th>\n",
       "    </tr>\n",
       "  </thead>\n",
       "  <tbody>\n",
       "    <tr>\n",
       "      <th>0</th>\n",
       "      <td>7590-VHVEG</td>\n",
       "      <td>Female</td>\n",
       "      <td>0</td>\n",
       "      <td>Yes</td>\n",
       "      <td>No</td>\n",
       "      <td>1</td>\n",
       "      <td>No</td>\n",
       "      <td>No phone service</td>\n",
       "      <td>DSL</td>\n",
       "      <td>No</td>\n",
       "      <td>...</td>\n",
       "      <td>No</td>\n",
       "      <td>No</td>\n",
       "      <td>No</td>\n",
       "      <td>No</td>\n",
       "      <td>Month-to-month</td>\n",
       "      <td>Yes</td>\n",
       "      <td>Electronic check</td>\n",
       "      <td>29.85</td>\n",
       "      <td>29.85</td>\n",
       "      <td>No</td>\n",
       "    </tr>\n",
       "    <tr>\n",
       "      <th>1</th>\n",
       "      <td>5575-GNVDE</td>\n",
       "      <td>Male</td>\n",
       "      <td>0</td>\n",
       "      <td>No</td>\n",
       "      <td>No</td>\n",
       "      <td>34</td>\n",
       "      <td>Yes</td>\n",
       "      <td>No</td>\n",
       "      <td>DSL</td>\n",
       "      <td>Yes</td>\n",
       "      <td>...</td>\n",
       "      <td>Yes</td>\n",
       "      <td>No</td>\n",
       "      <td>No</td>\n",
       "      <td>No</td>\n",
       "      <td>One year</td>\n",
       "      <td>No</td>\n",
       "      <td>Mailed check</td>\n",
       "      <td>56.95</td>\n",
       "      <td>1889.5</td>\n",
       "      <td>No</td>\n",
       "    </tr>\n",
       "    <tr>\n",
       "      <th>2</th>\n",
       "      <td>3668-QPYBK</td>\n",
       "      <td>Male</td>\n",
       "      <td>0</td>\n",
       "      <td>No</td>\n",
       "      <td>No</td>\n",
       "      <td>2</td>\n",
       "      <td>Yes</td>\n",
       "      <td>No</td>\n",
       "      <td>DSL</td>\n",
       "      <td>Yes</td>\n",
       "      <td>...</td>\n",
       "      <td>No</td>\n",
       "      <td>No</td>\n",
       "      <td>No</td>\n",
       "      <td>No</td>\n",
       "      <td>Month-to-month</td>\n",
       "      <td>Yes</td>\n",
       "      <td>Mailed check</td>\n",
       "      <td>53.85</td>\n",
       "      <td>108.15</td>\n",
       "      <td>Yes</td>\n",
       "    </tr>\n",
       "    <tr>\n",
       "      <th>3</th>\n",
       "      <td>7795-CFOCW</td>\n",
       "      <td>Male</td>\n",
       "      <td>0</td>\n",
       "      <td>No</td>\n",
       "      <td>No</td>\n",
       "      <td>45</td>\n",
       "      <td>No</td>\n",
       "      <td>No phone service</td>\n",
       "      <td>DSL</td>\n",
       "      <td>Yes</td>\n",
       "      <td>...</td>\n",
       "      <td>Yes</td>\n",
       "      <td>Yes</td>\n",
       "      <td>No</td>\n",
       "      <td>No</td>\n",
       "      <td>One year</td>\n",
       "      <td>No</td>\n",
       "      <td>Bank transfer (automatic)</td>\n",
       "      <td>42.30</td>\n",
       "      <td>1840.75</td>\n",
       "      <td>No</td>\n",
       "    </tr>\n",
       "    <tr>\n",
       "      <th>4</th>\n",
       "      <td>9237-HQITU</td>\n",
       "      <td>Female</td>\n",
       "      <td>0</td>\n",
       "      <td>No</td>\n",
       "      <td>No</td>\n",
       "      <td>2</td>\n",
       "      <td>Yes</td>\n",
       "      <td>No</td>\n",
       "      <td>Fiber optic</td>\n",
       "      <td>No</td>\n",
       "      <td>...</td>\n",
       "      <td>No</td>\n",
       "      <td>No</td>\n",
       "      <td>No</td>\n",
       "      <td>No</td>\n",
       "      <td>Month-to-month</td>\n",
       "      <td>Yes</td>\n",
       "      <td>Electronic check</td>\n",
       "      <td>70.70</td>\n",
       "      <td>151.65</td>\n",
       "      <td>Yes</td>\n",
       "    </tr>\n",
       "    <tr>\n",
       "      <th>...</th>\n",
       "      <td>...</td>\n",
       "      <td>...</td>\n",
       "      <td>...</td>\n",
       "      <td>...</td>\n",
       "      <td>...</td>\n",
       "      <td>...</td>\n",
       "      <td>...</td>\n",
       "      <td>...</td>\n",
       "      <td>...</td>\n",
       "      <td>...</td>\n",
       "      <td>...</td>\n",
       "      <td>...</td>\n",
       "      <td>...</td>\n",
       "      <td>...</td>\n",
       "      <td>...</td>\n",
       "      <td>...</td>\n",
       "      <td>...</td>\n",
       "      <td>...</td>\n",
       "      <td>...</td>\n",
       "      <td>...</td>\n",
       "      <td>...</td>\n",
       "    </tr>\n",
       "    <tr>\n",
       "      <th>7038</th>\n",
       "      <td>6840-RESVB</td>\n",
       "      <td>Male</td>\n",
       "      <td>0</td>\n",
       "      <td>Yes</td>\n",
       "      <td>Yes</td>\n",
       "      <td>24</td>\n",
       "      <td>Yes</td>\n",
       "      <td>Yes</td>\n",
       "      <td>DSL</td>\n",
       "      <td>Yes</td>\n",
       "      <td>...</td>\n",
       "      <td>Yes</td>\n",
       "      <td>Yes</td>\n",
       "      <td>Yes</td>\n",
       "      <td>Yes</td>\n",
       "      <td>One year</td>\n",
       "      <td>Yes</td>\n",
       "      <td>Mailed check</td>\n",
       "      <td>84.80</td>\n",
       "      <td>1990.5</td>\n",
       "      <td>No</td>\n",
       "    </tr>\n",
       "    <tr>\n",
       "      <th>7039</th>\n",
       "      <td>2234-XADUH</td>\n",
       "      <td>Female</td>\n",
       "      <td>0</td>\n",
       "      <td>Yes</td>\n",
       "      <td>Yes</td>\n",
       "      <td>72</td>\n",
       "      <td>Yes</td>\n",
       "      <td>Yes</td>\n",
       "      <td>Fiber optic</td>\n",
       "      <td>No</td>\n",
       "      <td>...</td>\n",
       "      <td>Yes</td>\n",
       "      <td>No</td>\n",
       "      <td>Yes</td>\n",
       "      <td>Yes</td>\n",
       "      <td>One year</td>\n",
       "      <td>Yes</td>\n",
       "      <td>Credit card (automatic)</td>\n",
       "      <td>103.20</td>\n",
       "      <td>7362.9</td>\n",
       "      <td>No</td>\n",
       "    </tr>\n",
       "    <tr>\n",
       "      <th>7040</th>\n",
       "      <td>4801-JZAZL</td>\n",
       "      <td>Female</td>\n",
       "      <td>0</td>\n",
       "      <td>Yes</td>\n",
       "      <td>Yes</td>\n",
       "      <td>11</td>\n",
       "      <td>No</td>\n",
       "      <td>No phone service</td>\n",
       "      <td>DSL</td>\n",
       "      <td>Yes</td>\n",
       "      <td>...</td>\n",
       "      <td>No</td>\n",
       "      <td>No</td>\n",
       "      <td>No</td>\n",
       "      <td>No</td>\n",
       "      <td>Month-to-month</td>\n",
       "      <td>Yes</td>\n",
       "      <td>Electronic check</td>\n",
       "      <td>29.60</td>\n",
       "      <td>346.45</td>\n",
       "      <td>No</td>\n",
       "    </tr>\n",
       "    <tr>\n",
       "      <th>7041</th>\n",
       "      <td>8361-LTMKD</td>\n",
       "      <td>Male</td>\n",
       "      <td>1</td>\n",
       "      <td>Yes</td>\n",
       "      <td>No</td>\n",
       "      <td>4</td>\n",
       "      <td>Yes</td>\n",
       "      <td>Yes</td>\n",
       "      <td>Fiber optic</td>\n",
       "      <td>No</td>\n",
       "      <td>...</td>\n",
       "      <td>No</td>\n",
       "      <td>No</td>\n",
       "      <td>No</td>\n",
       "      <td>No</td>\n",
       "      <td>Month-to-month</td>\n",
       "      <td>Yes</td>\n",
       "      <td>Mailed check</td>\n",
       "      <td>74.40</td>\n",
       "      <td>306.6</td>\n",
       "      <td>Yes</td>\n",
       "    </tr>\n",
       "    <tr>\n",
       "      <th>7042</th>\n",
       "      <td>3186-AJIEK</td>\n",
       "      <td>Male</td>\n",
       "      <td>0</td>\n",
       "      <td>No</td>\n",
       "      <td>No</td>\n",
       "      <td>66</td>\n",
       "      <td>Yes</td>\n",
       "      <td>No</td>\n",
       "      <td>Fiber optic</td>\n",
       "      <td>Yes</td>\n",
       "      <td>...</td>\n",
       "      <td>Yes</td>\n",
       "      <td>Yes</td>\n",
       "      <td>Yes</td>\n",
       "      <td>Yes</td>\n",
       "      <td>Two year</td>\n",
       "      <td>Yes</td>\n",
       "      <td>Bank transfer (automatic)</td>\n",
       "      <td>105.65</td>\n",
       "      <td>6844.5</td>\n",
       "      <td>No</td>\n",
       "    </tr>\n",
       "  </tbody>\n",
       "</table>\n",
       "<p>7043 rows × 21 columns</p>\n",
       "</div>"
      ],
      "text/plain": [
       "      customerID  gender  SeniorCitizen Partner Dependents  tenure  \\\n",
       "0     7590-VHVEG  Female              0     Yes         No       1   \n",
       "1     5575-GNVDE    Male              0      No         No      34   \n",
       "2     3668-QPYBK    Male              0      No         No       2   \n",
       "3     7795-CFOCW    Male              0      No         No      45   \n",
       "4     9237-HQITU  Female              0      No         No       2   \n",
       "...          ...     ...            ...     ...        ...     ...   \n",
       "7038  6840-RESVB    Male              0     Yes        Yes      24   \n",
       "7039  2234-XADUH  Female              0     Yes        Yes      72   \n",
       "7040  4801-JZAZL  Female              0     Yes        Yes      11   \n",
       "7041  8361-LTMKD    Male              1     Yes         No       4   \n",
       "7042  3186-AJIEK    Male              0      No         No      66   \n",
       "\n",
       "     PhoneService     MultipleLines InternetService OnlineSecurity  ...  \\\n",
       "0              No  No phone service             DSL             No  ...   \n",
       "1             Yes                No             DSL            Yes  ...   \n",
       "2             Yes                No             DSL            Yes  ...   \n",
       "3              No  No phone service             DSL            Yes  ...   \n",
       "4             Yes                No     Fiber optic             No  ...   \n",
       "...           ...               ...             ...            ...  ...   \n",
       "7038          Yes               Yes             DSL            Yes  ...   \n",
       "7039          Yes               Yes     Fiber optic             No  ...   \n",
       "7040           No  No phone service             DSL            Yes  ...   \n",
       "7041          Yes               Yes     Fiber optic             No  ...   \n",
       "7042          Yes                No     Fiber optic            Yes  ...   \n",
       "\n",
       "     DeviceProtection TechSupport StreamingTV StreamingMovies        Contract  \\\n",
       "0                  No          No          No              No  Month-to-month   \n",
       "1                 Yes          No          No              No        One year   \n",
       "2                  No          No          No              No  Month-to-month   \n",
       "3                 Yes         Yes          No              No        One year   \n",
       "4                  No          No          No              No  Month-to-month   \n",
       "...               ...         ...         ...             ...             ...   \n",
       "7038              Yes         Yes         Yes             Yes        One year   \n",
       "7039              Yes          No         Yes             Yes        One year   \n",
       "7040               No          No          No              No  Month-to-month   \n",
       "7041               No          No          No              No  Month-to-month   \n",
       "7042              Yes         Yes         Yes             Yes        Two year   \n",
       "\n",
       "     PaperlessBilling              PaymentMethod MonthlyCharges  TotalCharges  \\\n",
       "0                 Yes           Electronic check          29.85         29.85   \n",
       "1                  No               Mailed check          56.95        1889.5   \n",
       "2                 Yes               Mailed check          53.85        108.15   \n",
       "3                  No  Bank transfer (automatic)          42.30       1840.75   \n",
       "4                 Yes           Electronic check          70.70        151.65   \n",
       "...               ...                        ...            ...           ...   \n",
       "7038              Yes               Mailed check          84.80        1990.5   \n",
       "7039              Yes    Credit card (automatic)         103.20        7362.9   \n",
       "7040              Yes           Electronic check          29.60        346.45   \n",
       "7041              Yes               Mailed check          74.40         306.6   \n",
       "7042              Yes  Bank transfer (automatic)         105.65        6844.5   \n",
       "\n",
       "     Churn  \n",
       "0       No  \n",
       "1       No  \n",
       "2      Yes  \n",
       "3       No  \n",
       "4      Yes  \n",
       "...    ...  \n",
       "7038    No  \n",
       "7039    No  \n",
       "7040    No  \n",
       "7041   Yes  \n",
       "7042    No  \n",
       "\n",
       "[7043 rows x 21 columns]"
      ]
     },
     "execution_count": 479,
     "metadata": {},
     "output_type": "execute_result"
    }
   ],
   "source": [
    "# Reading the CSV file \"WA_Fn-UseC_-Telco-Customer-Churn.csv\" into a DataFrame and storing it in churn_df\n",
    "churn_df_raw = pd.read_csv(\"WA_Fn-UseC_-Telco-Customer-Churn.csv\")\n",
    "# Displaying the contents of the DataFrame churn_df\n",
    "churn_df_raw"
   ]
  },
  {
   "cell_type": "markdown",
   "metadata": {},
   "source": [
    "The column customerID contains the ID of each customer, and as this information is clearly not relevant for predicting churn, we will exclude this column."
   ]
  },
  {
   "cell_type": "code",
   "execution_count": 480,
   "metadata": {},
   "outputs": [],
   "source": [
    "# Dropping the 'customerID' column from the DataFrame churn_df along the columns axis (axis=1) and modifying the DataFrame in place\n",
    "churn_df_raw.drop('customerID',axis='columns',inplace=True)"
   ]
  },
  {
   "cell_type": "code",
   "execution_count": 481,
   "metadata": {},
   "outputs": [
    {
     "name": "stdout",
     "output_type": "stream",
     "text": [
      "<class 'pandas.core.frame.DataFrame'>\n",
      "RangeIndex: 7043 entries, 0 to 7042\n",
      "Data columns (total 20 columns):\n",
      " #   Column            Non-Null Count  Dtype  \n",
      "---  ------            --------------  -----  \n",
      " 0   gender            7043 non-null   object \n",
      " 1   SeniorCitizen     7043 non-null   int64  \n",
      " 2   Partner           7043 non-null   object \n",
      " 3   Dependents        7043 non-null   object \n",
      " 4   tenure            7043 non-null   int64  \n",
      " 5   PhoneService      7043 non-null   object \n",
      " 6   MultipleLines     7043 non-null   object \n",
      " 7   InternetService   7043 non-null   object \n",
      " 8   OnlineSecurity    7043 non-null   object \n",
      " 9   OnlineBackup      7043 non-null   object \n",
      " 10  DeviceProtection  7043 non-null   object \n",
      " 11  TechSupport       7043 non-null   object \n",
      " 12  StreamingTV       7043 non-null   object \n",
      " 13  StreamingMovies   7043 non-null   object \n",
      " 14  Contract          7043 non-null   object \n",
      " 15  PaperlessBilling  7043 non-null   object \n",
      " 16  PaymentMethod     7043 non-null   object \n",
      " 17  MonthlyCharges    7043 non-null   float64\n",
      " 18  TotalCharges      7043 non-null   object \n",
      " 19  Churn             7043 non-null   object \n",
      "dtypes: float64(1), int64(2), object(17)\n",
      "memory usage: 1.1+ MB\n"
     ]
    }
   ],
   "source": [
    "# Displaying information about the DataFrame churn_df, including the data types and memory usage\n",
    "churn_df_raw.info()"
   ]
  },
  {
   "cell_type": "code",
   "execution_count": 482,
   "metadata": {},
   "outputs": [
    {
     "data": {
      "text/html": [
       "<div>\n",
       "<style scoped>\n",
       "    .dataframe tbody tr th:only-of-type {\n",
       "        vertical-align: middle;\n",
       "    }\n",
       "\n",
       "    .dataframe tbody tr th {\n",
       "        vertical-align: top;\n",
       "    }\n",
       "\n",
       "    .dataframe thead th {\n",
       "        text-align: right;\n",
       "    }\n",
       "</style>\n",
       "<table border=\"1\" class=\"dataframe\">\n",
       "  <thead>\n",
       "    <tr style=\"text-align: right;\">\n",
       "      <th></th>\n",
       "      <th>SeniorCitizen</th>\n",
       "      <th>tenure</th>\n",
       "      <th>MonthlyCharges</th>\n",
       "    </tr>\n",
       "  </thead>\n",
       "  <tbody>\n",
       "    <tr>\n",
       "      <th>count</th>\n",
       "      <td>7043.000000</td>\n",
       "      <td>7043.000000</td>\n",
       "      <td>7043.000000</td>\n",
       "    </tr>\n",
       "    <tr>\n",
       "      <th>mean</th>\n",
       "      <td>0.162147</td>\n",
       "      <td>32.371149</td>\n",
       "      <td>64.761692</td>\n",
       "    </tr>\n",
       "    <tr>\n",
       "      <th>std</th>\n",
       "      <td>0.368612</td>\n",
       "      <td>24.559481</td>\n",
       "      <td>30.090047</td>\n",
       "    </tr>\n",
       "    <tr>\n",
       "      <th>min</th>\n",
       "      <td>0.000000</td>\n",
       "      <td>0.000000</td>\n",
       "      <td>18.250000</td>\n",
       "    </tr>\n",
       "    <tr>\n",
       "      <th>25%</th>\n",
       "      <td>0.000000</td>\n",
       "      <td>9.000000</td>\n",
       "      <td>35.500000</td>\n",
       "    </tr>\n",
       "    <tr>\n",
       "      <th>50%</th>\n",
       "      <td>0.000000</td>\n",
       "      <td>29.000000</td>\n",
       "      <td>70.350000</td>\n",
       "    </tr>\n",
       "    <tr>\n",
       "      <th>75%</th>\n",
       "      <td>0.000000</td>\n",
       "      <td>55.000000</td>\n",
       "      <td>89.850000</td>\n",
       "    </tr>\n",
       "    <tr>\n",
       "      <th>max</th>\n",
       "      <td>1.000000</td>\n",
       "      <td>72.000000</td>\n",
       "      <td>118.750000</td>\n",
       "    </tr>\n",
       "  </tbody>\n",
       "</table>\n",
       "</div>"
      ],
      "text/plain": [
       "       SeniorCitizen       tenure  MonthlyCharges\n",
       "count    7043.000000  7043.000000     7043.000000\n",
       "mean        0.162147    32.371149       64.761692\n",
       "std         0.368612    24.559481       30.090047\n",
       "min         0.000000     0.000000       18.250000\n",
       "25%         0.000000     9.000000       35.500000\n",
       "50%         0.000000    29.000000       70.350000\n",
       "75%         0.000000    55.000000       89.850000\n",
       "max         1.000000    72.000000      118.750000"
      ]
     },
     "execution_count": 482,
     "metadata": {},
     "output_type": "execute_result"
    }
   ],
   "source": [
    "# Generating descriptive statistics for the DataFrame churn_df, including measures like count, mean, standard deviation, minimum, and maximum values, among others\n",
    "churn_df_raw.describe()"
   ]
  },
  {
   "cell_type": "markdown",
   "metadata": {},
   "source": [
    "### 1.2: Checking Null Values"
   ]
  },
  {
   "cell_type": "code",
   "execution_count": 483,
   "metadata": {},
   "outputs": [
    {
     "data": {
      "text/plain": [
       "gender              0\n",
       "SeniorCitizen       0\n",
       "Partner             0\n",
       "Dependents          0\n",
       "tenure              0\n",
       "PhoneService        0\n",
       "MultipleLines       0\n",
       "InternetService     0\n",
       "OnlineSecurity      0\n",
       "OnlineBackup        0\n",
       "DeviceProtection    0\n",
       "TechSupport         0\n",
       "StreamingTV         0\n",
       "StreamingMovies     0\n",
       "Contract            0\n",
       "PaperlessBilling    0\n",
       "PaymentMethod       0\n",
       "MonthlyCharges      0\n",
       "TotalCharges        0\n",
       "Churn               0\n",
       "dtype: int64"
      ]
     },
     "execution_count": 483,
     "metadata": {},
     "output_type": "execute_result"
    }
   ],
   "source": [
    "# Checking for missing values in the DataFrame churn_df and summing up the missing values for each column\n",
    "churn_df_raw.isnull().sum()"
   ]
  },
  {
   "cell_type": "code",
   "execution_count": 484,
   "metadata": {},
   "outputs": [
    {
     "name": "stdout",
     "output_type": "stream",
     "text": [
      "Number of values that contain only white spaces in the 'TotalCharges' column: 11\n"
     ]
    }
   ],
   "source": [
    "# Finding values that contain only white spaces in the 'TotalCharges' column\n",
    "empty_values = churn_df_raw[churn_df_raw['TotalCharges'].str.strip() == '']\n",
    "\n",
    "# Displaying the number of values that contain only white spaces\n",
    "print(\"Number of values that contain only white spaces in the 'TotalCharges' column:\", len(empty_values))"
   ]
  },
  {
   "cell_type": "markdown",
   "metadata": {},
   "source": [
    "### 1.3: Checking Data Types\n",
    "\n",
    "In this stage, we will check some columns of our dataframe to see if the data is classified with their correct types."
   ]
  },
  {
   "cell_type": "code",
   "execution_count": 485,
   "metadata": {},
   "outputs": [
    {
     "name": "stdout",
     "output_type": "stream",
     "text": [
      "Unique values for the column 'Partner': ['Yes' 'No']\n",
      "Unique values for the column 'Dependents': ['No' 'Yes']\n",
      "Unique values for the column 'PhoneService': ['No' 'Yes']\n",
      "Unique values for the column 'PaperlessBilling': ['Yes' 'No']\n",
      "Unique values for the column 'Churn': ['No' 'Yes']\n"
     ]
    }
   ],
   "source": [
    "columns_to_check = ['Partner', 'Dependents', 'PhoneService','PaperlessBilling', 'Churn']\n",
    "\n",
    "# Iterating over the columns to check\n",
    "for column in columns_to_check:\n",
    "    # Retrieving the unique values for each column\n",
    "    unique_values = churn_df_raw[column].unique()\n",
    "    # Printing the unique values along with the column name\n",
    "    print(f\"Unique values for the column '{column}': {unique_values}\")\n"
   ]
  },
  {
   "cell_type": "code",
   "execution_count": 486,
   "metadata": {},
   "outputs": [
    {
     "name": "stdout",
     "output_type": "stream",
     "text": [
      "Unique values for the column 'gender': ['Female' 'Male']\n",
      "Unique values for the column 'SeniorCitizen': [0 1]\n"
     ]
    }
   ],
   "source": [
    "columns_to_check = ['gender', 'SeniorCitizen']\n",
    "\n",
    "# Loop through columns to check unique values\n",
    "for column in columns_to_check:\n",
    "    # Get unique values for the column\n",
    "    unique_values = churn_df_raw[column].unique()\n",
    "    # Print unique values for the column\n",
    "    print(f\"Unique values for the column '{column}': {unique_values}\")"
   ]
  },
  {
   "cell_type": "markdown",
   "metadata": {},
   "source": [
    "It seems that the columns 'Partner', 'Dependents', 'PhoneService', 'PaperlessBilling', 'Churn', 'gender', and 'SeniorCitizen' contain binary information and may work better if they are represented as booleans in the future."
   ]
  },
  {
   "cell_type": "code",
   "execution_count": 487,
   "metadata": {},
   "outputs": [
    {
     "name": "stdout",
     "output_type": "stream",
     "text": [
      "Unique values for the column 'MultipleLines': ['No phone service' 'No' 'Yes']\n",
      "Unique values for the column 'InternetService': ['DSL' 'Fiber optic' 'No']\n",
      "Unique values for the column 'OnlineSecurity': ['No' 'Yes' 'No internet service']\n",
      "Unique values for the column 'OnlineBackup': ['Yes' 'No' 'No internet service']\n",
      "Unique values for the column 'DeviceProtection': ['No' 'Yes' 'No internet service']\n",
      "Unique values for the column 'TechSupport': ['No' 'Yes' 'No internet service']\n",
      "Unique values for the column 'StreamingTV': ['No' 'Yes' 'No internet service']\n",
      "Unique values for the column 'StreamingMovies': ['No' 'Yes' 'No internet service']\n",
      "Unique values for the column 'Contract': ['Month-to-month' 'One year' 'Two year']\n",
      "Unique values for the column 'PaymentMethod': ['Electronic check' 'Mailed check' 'Bank transfer (automatic)'\n",
      " 'Credit card (automatic)']\n"
     ]
    }
   ],
   "source": [
    "columns_to_check = ['MultipleLines', 'InternetService', 'OnlineSecurity','OnlineBackup', 'DeviceProtection','TechSupport', 'StreamingTV', \n",
    "                    'StreamingMovies', 'Contract', 'PaymentMethod']\n",
    "\n",
    "# Loop through columns to check unique values\n",
    "for column in columns_to_check:\n",
    "    # Get unique values for the column\n",
    "    unique_values = churn_df_raw[column].unique()\n",
    "    # Print unique values for the column\n",
    "    print(f\"Unique values for the column '{column}': {unique_values}\")"
   ]
  },
  {
   "cell_type": "markdown",
   "metadata": {},
   "source": [
    "On the other hand, the columns 'MultipleLines', 'InternetService', 'OnlineSecurity', 'OnlineBackup', 'DeviceProtection', 'TechSupport', 'StreamingTV', 'StreamingMovies', 'Contract', and 'PaymentMethod' have more than two types of input values, thus requiring a one-hot encoding process for them in the next stage of this project."
   ]
  },
  {
   "cell_type": "markdown",
   "metadata": {},
   "source": [
    "### 1.4: Visual Analysis"
   ]
  },
  {
   "cell_type": "code",
   "execution_count": 488,
   "metadata": {},
   "outputs": [
    {
     "data": {
      "image/png": "[encoded data removed]",
      "text/plain": [
       "<Figure size 800x800 with 1 Axes>"
      ]
     },
     "metadata": {},
     "output_type": "display_data"
    }
   ],
   "source": [
    "# Reorders the values on the y-axis\n",
    "ordered_counts = churn_df_raw['Churn'].value_counts()[['Yes', 'No']]\n",
    "\n",
    "# Colors for each bar\n",
    "colors = ['#FA943A', '#5DA5DA'] \n",
    "\n",
    "# Creates the bar plot\n",
    "ax = ordered_counts.plot(kind='bar', figsize=(8, 8), color=colors)\n",
    "\n",
    "# Adds numbers on top of the bars with a larger margin\n",
    "for i in ax.patches:\n",
    "    ax.text(i.get_x() + i.get_width()/2, i.get_height() + ax.get_ylim()[1]*0.02, str(i.get_height()), ha='center', fontsize=10)\n",
    "\n",
    "# Plot configurations\n",
    "plt.xlabel(\"Count\", labelpad=14)\n",
    "plt.ylabel(\"Target Variable\", labelpad=14)\n",
    "plt.title(\"Count of Churn Variable per category\", y=1.02)\n",
    "\n",
    "# # Save the plot as an image file (e.g., PNG)\n",
    "# plt.savefig('count_plot.png', bbox_inches='tight')\n",
    "\n",
    "# Displays the plot\n",
    "plt.show()\n"
   ]
  },
  {
   "cell_type": "code",
   "execution_count": 489,
   "metadata": {},
   "outputs": [
    {
     "data": {
      "image/png": "[encoded data removed]",
      "text/plain": [
       "<Figure size 800x800 with 1 Axes>"
      ]
     },
     "metadata": {},
     "output_type": "display_data"
    }
   ],
   "source": [
    "# Reorders the values on the y-axis\n",
    "ordered_counts = churn_df_raw['Churn'].value_counts()[['Yes', 'No']]\n",
    "\n",
    "# Creates the pie chart\n",
    "plt.figure(figsize=(8, 8))\n",
    "plt.pie(ordered_counts, labels=ordered_counts.index, autopct='%1.1f%%', startangle=140, colors=colors)\n",
    "\n",
    "# Adds numbers inside each slice\n",
    "plt.gca().set_aspect('equal')\n",
    "plt.title(\"Distribution of Churn Variable\", y=1.02)\n",
    "\n",
    "# # Save the plot as an image file (e.g., PNG)\n",
    "# plt.savefig('pie_chart.png', bbox_inches='tight')\n",
    "\n",
    "# Displays the plot\n",
    "plt.show()"
   ]
  },
  {
   "cell_type": "markdown",
   "metadata": {},
   "source": [
    "Our dataset target evidently exhibits class imbalance. In the 'Churn' column, 73.5% represents 'No' and 26.5% represents 'Yes'.\n",
    "\n",
    "We should split our training, validation, and test sets with consideration for this class imbalance. Techniques such as Undersampling and SMOTE can also prove effective in such cases, particularly when employing algorithms that struggle with imbalanced data. \n",
    "\n",
    "It's essential to remain mindful of this imbalance during model validation and testing as well. Our aim is to ensure the model performs well on imbalanced datasets that mirror real-world scenarios."
   ]
  },
  {
   "cell_type": "markdown",
   "metadata": {},
   "source": [
    "# Chapter 2: Data Wrangling"
   ]
  },
  {
   "cell_type": "code",
   "execution_count": 490,
   "metadata": {},
   "outputs": [],
   "source": [
    "# Creating a copy of churn_df_raw and naming it churn_df\n",
    "churn_df = churn_df_raw.copy()"
   ]
  },
  {
   "cell_type": "markdown",
   "metadata": {},
   "source": [
    "### 2.1: Converting Types"
   ]
  },
  {
   "cell_type": "code",
   "execution_count": 491,
   "metadata": {},
   "outputs": [
    {
     "data": {
      "text/html": [
       "<div>\n",
       "<style scoped>\n",
       "    .dataframe tbody tr th:only-of-type {\n",
       "        vertical-align: middle;\n",
       "    }\n",
       "\n",
       "    .dataframe tbody tr th {\n",
       "        vertical-align: top;\n",
       "    }\n",
       "\n",
       "    .dataframe thead th {\n",
       "        text-align: right;\n",
       "    }\n",
       "</style>\n",
       "<table border=\"1\" class=\"dataframe\">\n",
       "  <thead>\n",
       "    <tr style=\"text-align: right;\">\n",
       "      <th></th>\n",
       "      <th>gender</th>\n",
       "      <th>SeniorCitizen</th>\n",
       "      <th>Partner</th>\n",
       "      <th>Dependents</th>\n",
       "      <th>tenure</th>\n",
       "      <th>PhoneService</th>\n",
       "      <th>MultipleLines</th>\n",
       "      <th>InternetService</th>\n",
       "      <th>OnlineSecurity</th>\n",
       "      <th>OnlineBackup</th>\n",
       "      <th>DeviceProtection</th>\n",
       "      <th>TechSupport</th>\n",
       "      <th>StreamingTV</th>\n",
       "      <th>StreamingMovies</th>\n",
       "      <th>Contract</th>\n",
       "      <th>PaperlessBilling</th>\n",
       "      <th>PaymentMethod</th>\n",
       "      <th>MonthlyCharges</th>\n",
       "      <th>TotalCharges</th>\n",
       "      <th>Churn</th>\n",
       "    </tr>\n",
       "  </thead>\n",
       "  <tbody>\n",
       "    <tr>\n",
       "      <th>0</th>\n",
       "      <td>Female</td>\n",
       "      <td>0</td>\n",
       "      <td>True</td>\n",
       "      <td>False</td>\n",
       "      <td>1</td>\n",
       "      <td>False</td>\n",
       "      <td>No phone service</td>\n",
       "      <td>DSL</td>\n",
       "      <td>No</td>\n",
       "      <td>Yes</td>\n",
       "      <td>No</td>\n",
       "      <td>No</td>\n",
       "      <td>No</td>\n",
       "      <td>No</td>\n",
       "      <td>Month-to-month</td>\n",
       "      <td>True</td>\n",
       "      <td>Electronic check</td>\n",
       "      <td>29.85</td>\n",
       "      <td>29.85</td>\n",
       "      <td>False</td>\n",
       "    </tr>\n",
       "    <tr>\n",
       "      <th>1</th>\n",
       "      <td>Male</td>\n",
       "      <td>0</td>\n",
       "      <td>False</td>\n",
       "      <td>False</td>\n",
       "      <td>34</td>\n",
       "      <td>True</td>\n",
       "      <td>No</td>\n",
       "      <td>DSL</td>\n",
       "      <td>Yes</td>\n",
       "      <td>No</td>\n",
       "      <td>Yes</td>\n",
       "      <td>No</td>\n",
       "      <td>No</td>\n",
       "      <td>No</td>\n",
       "      <td>One year</td>\n",
       "      <td>False</td>\n",
       "      <td>Mailed check</td>\n",
       "      <td>56.95</td>\n",
       "      <td>1889.5</td>\n",
       "      <td>False</td>\n",
       "    </tr>\n",
       "    <tr>\n",
       "      <th>2</th>\n",
       "      <td>Male</td>\n",
       "      <td>0</td>\n",
       "      <td>False</td>\n",
       "      <td>False</td>\n",
       "      <td>2</td>\n",
       "      <td>True</td>\n",
       "      <td>No</td>\n",
       "      <td>DSL</td>\n",
       "      <td>Yes</td>\n",
       "      <td>Yes</td>\n",
       "      <td>No</td>\n",
       "      <td>No</td>\n",
       "      <td>No</td>\n",
       "      <td>No</td>\n",
       "      <td>Month-to-month</td>\n",
       "      <td>True</td>\n",
       "      <td>Mailed check</td>\n",
       "      <td>53.85</td>\n",
       "      <td>108.15</td>\n",
       "      <td>True</td>\n",
       "    </tr>\n",
       "    <tr>\n",
       "      <th>3</th>\n",
       "      <td>Male</td>\n",
       "      <td>0</td>\n",
       "      <td>False</td>\n",
       "      <td>False</td>\n",
       "      <td>45</td>\n",
       "      <td>False</td>\n",
       "      <td>No phone service</td>\n",
       "      <td>DSL</td>\n",
       "      <td>Yes</td>\n",
       "      <td>No</td>\n",
       "      <td>Yes</td>\n",
       "      <td>Yes</td>\n",
       "      <td>No</td>\n",
       "      <td>No</td>\n",
       "      <td>One year</td>\n",
       "      <td>False</td>\n",
       "      <td>Bank transfer (automatic)</td>\n",
       "      <td>42.30</td>\n",
       "      <td>1840.75</td>\n",
       "      <td>False</td>\n",
       "    </tr>\n",
       "    <tr>\n",
       "      <th>4</th>\n",
       "      <td>Female</td>\n",
       "      <td>0</td>\n",
       "      <td>False</td>\n",
       "      <td>False</td>\n",
       "      <td>2</td>\n",
       "      <td>True</td>\n",
       "      <td>No</td>\n",
       "      <td>Fiber optic</td>\n",
       "      <td>No</td>\n",
       "      <td>No</td>\n",
       "      <td>No</td>\n",
       "      <td>No</td>\n",
       "      <td>No</td>\n",
       "      <td>No</td>\n",
       "      <td>Month-to-month</td>\n",
       "      <td>True</td>\n",
       "      <td>Electronic check</td>\n",
       "      <td>70.70</td>\n",
       "      <td>151.65</td>\n",
       "      <td>True</td>\n",
       "    </tr>\n",
       "  </tbody>\n",
       "</table>\n",
       "</div>"
      ],
      "text/plain": [
       "   gender  SeniorCitizen  Partner  Dependents  tenure  PhoneService  \\\n",
       "0  Female              0     True       False       1         False   \n",
       "1    Male              0    False       False      34          True   \n",
       "2    Male              0    False       False       2          True   \n",
       "3    Male              0    False       False      45         False   \n",
       "4  Female              0    False       False       2          True   \n",
       "\n",
       "      MultipleLines InternetService OnlineSecurity OnlineBackup  \\\n",
       "0  No phone service             DSL             No          Yes   \n",
       "1                No             DSL            Yes           No   \n",
       "2                No             DSL            Yes          Yes   \n",
       "3  No phone service             DSL            Yes           No   \n",
       "4                No     Fiber optic             No           No   \n",
       "\n",
       "  DeviceProtection TechSupport StreamingTV StreamingMovies        Contract  \\\n",
       "0               No          No          No              No  Month-to-month   \n",
       "1              Yes          No          No              No        One year   \n",
       "2               No          No          No              No  Month-to-month   \n",
       "3              Yes         Yes          No              No        One year   \n",
       "4               No          No          No              No  Month-to-month   \n",
       "\n",
       "   PaperlessBilling              PaymentMethod  MonthlyCharges TotalCharges  \\\n",
       "0              True           Electronic check           29.85        29.85   \n",
       "1             False               Mailed check           56.95       1889.5   \n",
       "2              True               Mailed check           53.85       108.15   \n",
       "3             False  Bank transfer (automatic)           42.30      1840.75   \n",
       "4              True           Electronic check           70.70       151.65   \n",
       "\n",
       "   Churn  \n",
       "0  False  \n",
       "1  False  \n",
       "2   True  \n",
       "3  False  \n",
       "4   True  "
      ]
     },
     "execution_count": 491,
     "metadata": {},
     "output_type": "execute_result"
    }
   ],
   "source": [
    "# List of boolean columns\n",
    "boolean_columns = ['Partner', 'Dependents', 'PhoneService', 'PaperlessBilling', 'Churn']\n",
    "\n",
    "# Conversion mapping\n",
    "conversion_map = {'No': False, 'Yes': True}\n",
    "\n",
    "def convert_boolean_columns(df, boolean_columns, conversion_map):\n",
    "    for column in boolean_columns:\n",
    "        df[column] = df[column].map(conversion_map)\n",
    "    return df\n",
    "\n",
    "# Exemplo de uso da função\n",
    "churn_df = convert_boolean_columns(churn_df, boolean_columns, conversion_map)\n",
    "\n",
    "# Exibindo os primeiros registros do DataFrame para verificação\n",
    "churn_df.head()\n"
   ]
  },
  {
   "cell_type": "code",
   "execution_count": 492,
   "metadata": {},
   "outputs": [
    {
     "name": "stdout",
     "output_type": "stream",
     "text": [
      "   gender  SeniorCitizen  Partner  Dependents  tenure  PhoneService  \\\n",
      "0    True          False     True       False       1         False   \n",
      "1   False          False    False       False      34          True   \n",
      "2   False          False    False       False       2          True   \n",
      "3   False          False    False       False      45         False   \n",
      "4    True          False    False       False       2          True   \n",
      "\n",
      "      MultipleLines InternetService OnlineSecurity OnlineBackup  \\\n",
      "0  No phone service             DSL             No          Yes   \n",
      "1                No             DSL            Yes           No   \n",
      "2                No             DSL            Yes          Yes   \n",
      "3  No phone service             DSL            Yes           No   \n",
      "4                No     Fiber optic             No           No   \n",
      "\n",
      "  DeviceProtection TechSupport StreamingTV StreamingMovies        Contract  \\\n",
      "0               No          No          No              No  Month-to-month   \n",
      "1              Yes          No          No              No        One year   \n",
      "2               No          No          No              No  Month-to-month   \n",
      "3              Yes         Yes          No              No        One year   \n",
      "4               No          No          No              No  Month-to-month   \n",
      "\n",
      "   PaperlessBilling              PaymentMethod  MonthlyCharges TotalCharges  \\\n",
      "0              True           Electronic check           29.85        29.85   \n",
      "1             False               Mailed check           56.95       1889.5   \n",
      "2              True               Mailed check           53.85       108.15   \n",
      "3             False  Bank transfer (automatic)           42.30      1840.75   \n",
      "4              True           Electronic check           70.70       151.65   \n",
      "\n",
      "   Churn  \n",
      "0  False  \n",
      "1  False  \n",
      "2   True  \n",
      "3  False  \n",
      "4   True  \n"
     ]
    }
   ],
   "source": [
    "def convert_columns(df):\n",
    "    # Conversion mapping for the 'gender' column\n",
    "    gender_conversion_map = {'Male': False, 'Female': True}\n",
    "    \n",
    "    # Converting the 'gender' column\n",
    "    df['gender'] = df['gender'].map(gender_conversion_map)\n",
    "\n",
    "    # Converting the 'SeniorCitizen' column to bool\n",
    "    df['SeniorCitizen'] = df['SeniorCitizen'].astype(bool)\n",
    "    \n",
    "    return df\n",
    "\n",
    "# Example usage:\n",
    "# Assuming churn_df is the name of your DataFrame\n",
    "churn_df = convert_columns(churn_df)\n",
    "\n",
    "# Displaying the first few records of the DataFrame for verification\n",
    "print(churn_df.head())"
   ]
  },
  {
   "cell_type": "code",
   "execution_count": 493,
   "metadata": {},
   "outputs": [
    {
     "data": {
      "text/plain": [
       "gender                 bool\n",
       "SeniorCitizen          bool\n",
       "Partner                bool\n",
       "Dependents             bool\n",
       "tenure                int64\n",
       "PhoneService           bool\n",
       "MultipleLines        object\n",
       "InternetService      object\n",
       "OnlineSecurity       object\n",
       "OnlineBackup         object\n",
       "DeviceProtection     object\n",
       "TechSupport          object\n",
       "StreamingTV          object\n",
       "StreamingMovies      object\n",
       "Contract             object\n",
       "PaperlessBilling       bool\n",
       "PaymentMethod        object\n",
       "MonthlyCharges      float64\n",
       "TotalCharges         object\n",
       "Churn                  bool\n",
       "dtype: object"
      ]
     },
     "execution_count": 493,
     "metadata": {},
     "output_type": "execute_result"
    }
   ],
   "source": [
    "# Displaying the data types of each column in the DataFrame churn_df\n",
    "churn_df.dtypes"
   ]
  },
  {
   "cell_type": "markdown",
   "metadata": {},
   "source": [
    "### 2.2: Handling White Spaces"
   ]
  },
  {
   "cell_type": "code",
   "execution_count": 494,
   "metadata": {},
   "outputs": [],
   "source": [
    "import numpy as np\n",
    "\n",
    "def clean_total_charges_column(df):\n",
    "    # Replace values containing only whitespace with NaN in the 'TotalCharges' column\n",
    "    df['TotalCharges'] = df['TotalCharges'].replace(r'^\\s*$', np.nan, regex=True)\n",
    "    \n",
    "    # Drop rows containing NaN in the 'TotalCharges' column\n",
    "    df.dropna(subset=['TotalCharges'], inplace=True)\n",
    "    \n",
    "    # Convert the 'TotalCharges' column to float\n",
    "    df['TotalCharges'] = df['TotalCharges'].astype(float)\n",
    "\n",
    "clean_total_charges_column(churn_df)"
   ]
  },
  {
   "cell_type": "code",
   "execution_count": 495,
   "metadata": {},
   "outputs": [
    {
     "name": "stdout",
     "output_type": "stream",
     "text": [
      "<class 'pandas.core.frame.DataFrame'>\n",
      "Index: 7032 entries, 0 to 7042\n",
      "Data columns (total 20 columns):\n",
      " #   Column            Non-Null Count  Dtype  \n",
      "---  ------            --------------  -----  \n",
      " 0   gender            7032 non-null   bool   \n",
      " 1   SeniorCitizen     7032 non-null   bool   \n",
      " 2   Partner           7032 non-null   bool   \n",
      " 3   Dependents        7032 non-null   bool   \n",
      " 4   tenure            7032 non-null   int64  \n",
      " 5   PhoneService      7032 non-null   bool   \n",
      " 6   MultipleLines     7032 non-null   object \n",
      " 7   InternetService   7032 non-null   object \n",
      " 8   OnlineSecurity    7032 non-null   object \n",
      " 9   OnlineBackup      7032 non-null   object \n",
      " 10  DeviceProtection  7032 non-null   object \n",
      " 11  TechSupport       7032 non-null   object \n",
      " 12  StreamingTV       7032 non-null   object \n",
      " 13  StreamingMovies   7032 non-null   object \n",
      " 14  Contract          7032 non-null   object \n",
      " 15  PaperlessBilling  7032 non-null   bool   \n",
      " 16  PaymentMethod     7032 non-null   object \n",
      " 17  MonthlyCharges    7032 non-null   float64\n",
      " 18  TotalCharges      7032 non-null   float64\n",
      " 19  Churn             7032 non-null   bool   \n",
      "dtypes: bool(7), float64(2), int64(1), object(10)\n",
      "memory usage: 817.2+ KB\n"
     ]
    }
   ],
   "source": [
    "churn_df.info()"
   ]
  },
  {
   "cell_type": "markdown",
   "metadata": {},
   "source": [
    "### 2.3: One-Hot Encoding"
   ]
  },
  {
   "cell_type": "code",
   "execution_count": 496,
   "metadata": {},
   "outputs": [
    {
     "data": {
      "text/html": [
       "<div>\n",
       "<style scoped>\n",
       "    .dataframe tbody tr th:only-of-type {\n",
       "        vertical-align: middle;\n",
       "    }\n",
       "\n",
       "    .dataframe tbody tr th {\n",
       "        vertical-align: top;\n",
       "    }\n",
       "\n",
       "    .dataframe thead th {\n",
       "        text-align: right;\n",
       "    }\n",
       "</style>\n",
       "<table border=\"1\" class=\"dataframe\">\n",
       "  <thead>\n",
       "    <tr style=\"text-align: right;\">\n",
       "      <th></th>\n",
       "      <th>gender</th>\n",
       "      <th>SeniorCitizen</th>\n",
       "      <th>Partner</th>\n",
       "      <th>Dependents</th>\n",
       "      <th>tenure</th>\n",
       "      <th>PhoneService</th>\n",
       "      <th>PaperlessBilling</th>\n",
       "      <th>MonthlyCharges</th>\n",
       "      <th>TotalCharges</th>\n",
       "      <th>Churn</th>\n",
       "      <th>...</th>\n",
       "      <th>StreamingMovies_No</th>\n",
       "      <th>StreamingMovies_No internet service</th>\n",
       "      <th>StreamingMovies_Yes</th>\n",
       "      <th>Contract_Month-to-month</th>\n",
       "      <th>Contract_One year</th>\n",
       "      <th>Contract_Two year</th>\n",
       "      <th>PaymentMethod_Bank transfer (automatic)</th>\n",
       "      <th>PaymentMethod_Credit card (automatic)</th>\n",
       "      <th>PaymentMethod_Electronic check</th>\n",
       "      <th>PaymentMethod_Mailed check</th>\n",
       "    </tr>\n",
       "  </thead>\n",
       "  <tbody>\n",
       "    <tr>\n",
       "      <th>0</th>\n",
       "      <td>True</td>\n",
       "      <td>False</td>\n",
       "      <td>True</td>\n",
       "      <td>False</td>\n",
       "      <td>1</td>\n",
       "      <td>False</td>\n",
       "      <td>True</td>\n",
       "      <td>29.85</td>\n",
       "      <td>29.85</td>\n",
       "      <td>False</td>\n",
       "      <td>...</td>\n",
       "      <td>True</td>\n",
       "      <td>False</td>\n",
       "      <td>False</td>\n",
       "      <td>True</td>\n",
       "      <td>False</td>\n",
       "      <td>False</td>\n",
       "      <td>False</td>\n",
       "      <td>False</td>\n",
       "      <td>True</td>\n",
       "      <td>False</td>\n",
       "    </tr>\n",
       "    <tr>\n",
       "      <th>1</th>\n",
       "      <td>False</td>\n",
       "      <td>False</td>\n",
       "      <td>False</td>\n",
       "      <td>False</td>\n",
       "      <td>34</td>\n",
       "      <td>True</td>\n",
       "      <td>False</td>\n",
       "      <td>56.95</td>\n",
       "      <td>1889.50</td>\n",
       "      <td>False</td>\n",
       "      <td>...</td>\n",
       "      <td>True</td>\n",
       "      <td>False</td>\n",
       "      <td>False</td>\n",
       "      <td>False</td>\n",
       "      <td>True</td>\n",
       "      <td>False</td>\n",
       "      <td>False</td>\n",
       "      <td>False</td>\n",
       "      <td>False</td>\n",
       "      <td>True</td>\n",
       "    </tr>\n",
       "    <tr>\n",
       "      <th>2</th>\n",
       "      <td>False</td>\n",
       "      <td>False</td>\n",
       "      <td>False</td>\n",
       "      <td>False</td>\n",
       "      <td>2</td>\n",
       "      <td>True</td>\n",
       "      <td>True</td>\n",
       "      <td>53.85</td>\n",
       "      <td>108.15</td>\n",
       "      <td>True</td>\n",
       "      <td>...</td>\n",
       "      <td>True</td>\n",
       "      <td>False</td>\n",
       "      <td>False</td>\n",
       "      <td>True</td>\n",
       "      <td>False</td>\n",
       "      <td>False</td>\n",
       "      <td>False</td>\n",
       "      <td>False</td>\n",
       "      <td>False</td>\n",
       "      <td>True</td>\n",
       "    </tr>\n",
       "    <tr>\n",
       "      <th>3</th>\n",
       "      <td>False</td>\n",
       "      <td>False</td>\n",
       "      <td>False</td>\n",
       "      <td>False</td>\n",
       "      <td>45</td>\n",
       "      <td>False</td>\n",
       "      <td>False</td>\n",
       "      <td>42.30</td>\n",
       "      <td>1840.75</td>\n",
       "      <td>False</td>\n",
       "      <td>...</td>\n",
       "      <td>True</td>\n",
       "      <td>False</td>\n",
       "      <td>False</td>\n",
       "      <td>False</td>\n",
       "      <td>True</td>\n",
       "      <td>False</td>\n",
       "      <td>True</td>\n",
       "      <td>False</td>\n",
       "      <td>False</td>\n",
       "      <td>False</td>\n",
       "    </tr>\n",
       "    <tr>\n",
       "      <th>4</th>\n",
       "      <td>True</td>\n",
       "      <td>False</td>\n",
       "      <td>False</td>\n",
       "      <td>False</td>\n",
       "      <td>2</td>\n",
       "      <td>True</td>\n",
       "      <td>True</td>\n",
       "      <td>70.70</td>\n",
       "      <td>151.65</td>\n",
       "      <td>True</td>\n",
       "      <td>...</td>\n",
       "      <td>True</td>\n",
       "      <td>False</td>\n",
       "      <td>False</td>\n",
       "      <td>True</td>\n",
       "      <td>False</td>\n",
       "      <td>False</td>\n",
       "      <td>False</td>\n",
       "      <td>False</td>\n",
       "      <td>True</td>\n",
       "      <td>False</td>\n",
       "    </tr>\n",
       "  </tbody>\n",
       "</table>\n",
       "<p>5 rows × 41 columns</p>\n",
       "</div>"
      ],
      "text/plain": [
       "   gender  SeniorCitizen  Partner  Dependents  tenure  PhoneService  \\\n",
       "0    True          False     True       False       1         False   \n",
       "1   False          False    False       False      34          True   \n",
       "2   False          False    False       False       2          True   \n",
       "3   False          False    False       False      45         False   \n",
       "4    True          False    False       False       2          True   \n",
       "\n",
       "   PaperlessBilling  MonthlyCharges  TotalCharges  Churn  ...  \\\n",
       "0              True           29.85         29.85  False  ...   \n",
       "1             False           56.95       1889.50  False  ...   \n",
       "2              True           53.85        108.15   True  ...   \n",
       "3             False           42.30       1840.75  False  ...   \n",
       "4              True           70.70        151.65   True  ...   \n",
       "\n",
       "   StreamingMovies_No  StreamingMovies_No internet service  \\\n",
       "0                True                                False   \n",
       "1                True                                False   \n",
       "2                True                                False   \n",
       "3                True                                False   \n",
       "4                True                                False   \n",
       "\n",
       "   StreamingMovies_Yes  Contract_Month-to-month  Contract_One year  \\\n",
       "0                False                     True              False   \n",
       "1                False                    False               True   \n",
       "2                False                     True              False   \n",
       "3                False                    False               True   \n",
       "4                False                     True              False   \n",
       "\n",
       "   Contract_Two year  PaymentMethod_Bank transfer (automatic)  \\\n",
       "0              False                                    False   \n",
       "1              False                                    False   \n",
       "2              False                                    False   \n",
       "3              False                                     True   \n",
       "4              False                                    False   \n",
       "\n",
       "   PaymentMethod_Credit card (automatic)  PaymentMethod_Electronic check  \\\n",
       "0                                  False                            True   \n",
       "1                                  False                           False   \n",
       "2                                  False                           False   \n",
       "3                                  False                           False   \n",
       "4                                  False                            True   \n",
       "\n",
       "   PaymentMethod_Mailed check  \n",
       "0                       False  \n",
       "1                        True  \n",
       "2                        True  \n",
       "3                       False  \n",
       "4                       False  \n",
       "\n",
       "[5 rows x 41 columns]"
      ]
     },
     "execution_count": 496,
     "metadata": {},
     "output_type": "execute_result"
    }
   ],
   "source": [
    "# List of columns to apply one-hot encoding\n",
    "columns_to_encode = ['MultipleLines', 'InternetService', 'OnlineSecurity', \n",
    "                     'OnlineBackup', 'DeviceProtection', 'TechSupport', \n",
    "                     'StreamingTV', 'StreamingMovies', 'Contract', \n",
    "                     'PaymentMethod']\n",
    "\n",
    "# Applying one-hot encoding\n",
    "churn_df = pd.get_dummies(churn_df, columns=columns_to_encode)\n",
    "\n",
    "# Displaying the first few records of the DataFrame with the encoded columns\n",
    "churn_df.head()"
   ]
  },
  {
   "cell_type": "code",
   "execution_count": 497,
   "metadata": {},
   "outputs": [
    {
     "data": {
      "text/plain": [
       "gender                                        bool\n",
       "SeniorCitizen                                 bool\n",
       "Partner                                       bool\n",
       "Dependents                                    bool\n",
       "tenure                                       int64\n",
       "PhoneService                                  bool\n",
       "PaperlessBilling                              bool\n",
       "MonthlyCharges                             float64\n",
       "TotalCharges                               float64\n",
       "Churn                                         bool\n",
       "MultipleLines_No                              bool\n",
       "MultipleLines_No phone service                bool\n",
       "MultipleLines_Yes                             bool\n",
       "InternetService_DSL                           bool\n",
       "InternetService_Fiber optic                   bool\n",
       "InternetService_No                            bool\n",
       "OnlineSecurity_No                             bool\n",
       "OnlineSecurity_No internet service            bool\n",
       "OnlineSecurity_Yes                            bool\n",
       "OnlineBackup_No                               bool\n",
       "OnlineBackup_No internet service              bool\n",
       "OnlineBackup_Yes                              bool\n",
       "DeviceProtection_No                           bool\n",
       "DeviceProtection_No internet service          bool\n",
       "DeviceProtection_Yes                          bool\n",
       "TechSupport_No                                bool\n",
       "TechSupport_No internet service               bool\n",
       "TechSupport_Yes                               bool\n",
       "StreamingTV_No                                bool\n",
       "StreamingTV_No internet service               bool\n",
       "StreamingTV_Yes                               bool\n",
       "StreamingMovies_No                            bool\n",
       "StreamingMovies_No internet service           bool\n",
       "StreamingMovies_Yes                           bool\n",
       "Contract_Month-to-month                       bool\n",
       "Contract_One year                             bool\n",
       "Contract_Two year                             bool\n",
       "PaymentMethod_Bank transfer (automatic)       bool\n",
       "PaymentMethod_Credit card (automatic)         bool\n",
       "PaymentMethod_Electronic check                bool\n",
       "PaymentMethod_Mailed check                    bool\n",
       "dtype: object"
      ]
     },
     "execution_count": 497,
     "metadata": {},
     "output_type": "execute_result"
    }
   ],
   "source": [
    "# Displaying the data types of each column in the DataFrame churn_df_encoded\n",
    "churn_df.dtypes"
   ]
  },
  {
   "cell_type": "markdown",
   "metadata": {},
   "source": [
    "### 2.4: Min Max Scaler"
   ]
  },
  {
   "cell_type": "code",
   "execution_count": 498,
   "metadata": {},
   "outputs": [
    {
     "data": {
      "text/html": [
       "<div>\n",
       "<style scoped>\n",
       "    .dataframe tbody tr th:only-of-type {\n",
       "        vertical-align: middle;\n",
       "    }\n",
       "\n",
       "    .dataframe tbody tr th {\n",
       "        vertical-align: top;\n",
       "    }\n",
       "\n",
       "    .dataframe thead th {\n",
       "        text-align: right;\n",
       "    }\n",
       "</style>\n",
       "<table border=\"1\" class=\"dataframe\">\n",
       "  <thead>\n",
       "    <tr style=\"text-align: right;\">\n",
       "      <th></th>\n",
       "      <th>gender</th>\n",
       "      <th>SeniorCitizen</th>\n",
       "      <th>Partner</th>\n",
       "      <th>Dependents</th>\n",
       "      <th>tenure</th>\n",
       "      <th>PhoneService</th>\n",
       "      <th>PaperlessBilling</th>\n",
       "      <th>MonthlyCharges</th>\n",
       "      <th>TotalCharges</th>\n",
       "      <th>Churn</th>\n",
       "      <th>...</th>\n",
       "      <th>StreamingMovies_No</th>\n",
       "      <th>StreamingMovies_No internet service</th>\n",
       "      <th>StreamingMovies_Yes</th>\n",
       "      <th>Contract_Month-to-month</th>\n",
       "      <th>Contract_One year</th>\n",
       "      <th>Contract_Two year</th>\n",
       "      <th>PaymentMethod_Bank transfer (automatic)</th>\n",
       "      <th>PaymentMethod_Credit card (automatic)</th>\n",
       "      <th>PaymentMethod_Electronic check</th>\n",
       "      <th>PaymentMethod_Mailed check</th>\n",
       "    </tr>\n",
       "  </thead>\n",
       "  <tbody>\n",
       "    <tr>\n",
       "      <th>0</th>\n",
       "      <td>1.0</td>\n",
       "      <td>0.0</td>\n",
       "      <td>1.0</td>\n",
       "      <td>0.0</td>\n",
       "      <td>0.000000</td>\n",
       "      <td>0.0</td>\n",
       "      <td>1.0</td>\n",
       "      <td>0.115423</td>\n",
       "      <td>0.001275</td>\n",
       "      <td>False</td>\n",
       "      <td>...</td>\n",
       "      <td>1.0</td>\n",
       "      <td>0.0</td>\n",
       "      <td>0.0</td>\n",
       "      <td>1.0</td>\n",
       "      <td>0.0</td>\n",
       "      <td>0.0</td>\n",
       "      <td>0.0</td>\n",
       "      <td>0.0</td>\n",
       "      <td>1.0</td>\n",
       "      <td>0.0</td>\n",
       "    </tr>\n",
       "    <tr>\n",
       "      <th>1</th>\n",
       "      <td>0.0</td>\n",
       "      <td>0.0</td>\n",
       "      <td>0.0</td>\n",
       "      <td>0.0</td>\n",
       "      <td>0.464789</td>\n",
       "      <td>1.0</td>\n",
       "      <td>0.0</td>\n",
       "      <td>0.385075</td>\n",
       "      <td>0.215867</td>\n",
       "      <td>False</td>\n",
       "      <td>...</td>\n",
       "      <td>1.0</td>\n",
       "      <td>0.0</td>\n",
       "      <td>0.0</td>\n",
       "      <td>0.0</td>\n",
       "      <td>1.0</td>\n",
       "      <td>0.0</td>\n",
       "      <td>0.0</td>\n",
       "      <td>0.0</td>\n",
       "      <td>0.0</td>\n",
       "      <td>1.0</td>\n",
       "    </tr>\n",
       "    <tr>\n",
       "      <th>2</th>\n",
       "      <td>0.0</td>\n",
       "      <td>0.0</td>\n",
       "      <td>0.0</td>\n",
       "      <td>0.0</td>\n",
       "      <td>0.014085</td>\n",
       "      <td>1.0</td>\n",
       "      <td>1.0</td>\n",
       "      <td>0.354229</td>\n",
       "      <td>0.010310</td>\n",
       "      <td>True</td>\n",
       "      <td>...</td>\n",
       "      <td>1.0</td>\n",
       "      <td>0.0</td>\n",
       "      <td>0.0</td>\n",
       "      <td>1.0</td>\n",
       "      <td>0.0</td>\n",
       "      <td>0.0</td>\n",
       "      <td>0.0</td>\n",
       "      <td>0.0</td>\n",
       "      <td>0.0</td>\n",
       "      <td>1.0</td>\n",
       "    </tr>\n",
       "    <tr>\n",
       "      <th>3</th>\n",
       "      <td>0.0</td>\n",
       "      <td>0.0</td>\n",
       "      <td>0.0</td>\n",
       "      <td>0.0</td>\n",
       "      <td>0.619718</td>\n",
       "      <td>0.0</td>\n",
       "      <td>0.0</td>\n",
       "      <td>0.239303</td>\n",
       "      <td>0.210241</td>\n",
       "      <td>False</td>\n",
       "      <td>...</td>\n",
       "      <td>1.0</td>\n",
       "      <td>0.0</td>\n",
       "      <td>0.0</td>\n",
       "      <td>0.0</td>\n",
       "      <td>1.0</td>\n",
       "      <td>0.0</td>\n",
       "      <td>1.0</td>\n",
       "      <td>0.0</td>\n",
       "      <td>0.0</td>\n",
       "      <td>0.0</td>\n",
       "    </tr>\n",
       "    <tr>\n",
       "      <th>4</th>\n",
       "      <td>1.0</td>\n",
       "      <td>0.0</td>\n",
       "      <td>0.0</td>\n",
       "      <td>0.0</td>\n",
       "      <td>0.014085</td>\n",
       "      <td>1.0</td>\n",
       "      <td>1.0</td>\n",
       "      <td>0.521891</td>\n",
       "      <td>0.015330</td>\n",
       "      <td>True</td>\n",
       "      <td>...</td>\n",
       "      <td>1.0</td>\n",
       "      <td>0.0</td>\n",
       "      <td>0.0</td>\n",
       "      <td>1.0</td>\n",
       "      <td>0.0</td>\n",
       "      <td>0.0</td>\n",
       "      <td>0.0</td>\n",
       "      <td>0.0</td>\n",
       "      <td>1.0</td>\n",
       "      <td>0.0</td>\n",
       "    </tr>\n",
       "    <tr>\n",
       "      <th>...</th>\n",
       "      <td>...</td>\n",
       "      <td>...</td>\n",
       "      <td>...</td>\n",
       "      <td>...</td>\n",
       "      <td>...</td>\n",
       "      <td>...</td>\n",
       "      <td>...</td>\n",
       "      <td>...</td>\n",
       "      <td>...</td>\n",
       "      <td>...</td>\n",
       "      <td>...</td>\n",
       "      <td>...</td>\n",
       "      <td>...</td>\n",
       "      <td>...</td>\n",
       "      <td>...</td>\n",
       "      <td>...</td>\n",
       "      <td>...</td>\n",
       "      <td>...</td>\n",
       "      <td>...</td>\n",
       "      <td>...</td>\n",
       "      <td>...</td>\n",
       "    </tr>\n",
       "    <tr>\n",
       "      <th>7038</th>\n",
       "      <td>0.0</td>\n",
       "      <td>0.0</td>\n",
       "      <td>1.0</td>\n",
       "      <td>1.0</td>\n",
       "      <td>0.323944</td>\n",
       "      <td>1.0</td>\n",
       "      <td>1.0</td>\n",
       "      <td>0.662189</td>\n",
       "      <td>0.227521</td>\n",
       "      <td>False</td>\n",
       "      <td>...</td>\n",
       "      <td>0.0</td>\n",
       "      <td>0.0</td>\n",
       "      <td>1.0</td>\n",
       "      <td>0.0</td>\n",
       "      <td>1.0</td>\n",
       "      <td>0.0</td>\n",
       "      <td>0.0</td>\n",
       "      <td>0.0</td>\n",
       "      <td>0.0</td>\n",
       "      <td>1.0</td>\n",
       "    </tr>\n",
       "    <tr>\n",
       "      <th>7039</th>\n",
       "      <td>1.0</td>\n",
       "      <td>0.0</td>\n",
       "      <td>1.0</td>\n",
       "      <td>1.0</td>\n",
       "      <td>1.000000</td>\n",
       "      <td>1.0</td>\n",
       "      <td>1.0</td>\n",
       "      <td>0.845274</td>\n",
       "      <td>0.847461</td>\n",
       "      <td>False</td>\n",
       "      <td>...</td>\n",
       "      <td>0.0</td>\n",
       "      <td>0.0</td>\n",
       "      <td>1.0</td>\n",
       "      <td>0.0</td>\n",
       "      <td>1.0</td>\n",
       "      <td>0.0</td>\n",
       "      <td>0.0</td>\n",
       "      <td>1.0</td>\n",
       "      <td>0.0</td>\n",
       "      <td>0.0</td>\n",
       "    </tr>\n",
       "    <tr>\n",
       "      <th>7040</th>\n",
       "      <td>1.0</td>\n",
       "      <td>0.0</td>\n",
       "      <td>1.0</td>\n",
       "      <td>1.0</td>\n",
       "      <td>0.140845</td>\n",
       "      <td>0.0</td>\n",
       "      <td>1.0</td>\n",
       "      <td>0.112935</td>\n",
       "      <td>0.037809</td>\n",
       "      <td>False</td>\n",
       "      <td>...</td>\n",
       "      <td>1.0</td>\n",
       "      <td>0.0</td>\n",
       "      <td>0.0</td>\n",
       "      <td>1.0</td>\n",
       "      <td>0.0</td>\n",
       "      <td>0.0</td>\n",
       "      <td>0.0</td>\n",
       "      <td>0.0</td>\n",
       "      <td>1.0</td>\n",
       "      <td>0.0</td>\n",
       "    </tr>\n",
       "    <tr>\n",
       "      <th>7041</th>\n",
       "      <td>0.0</td>\n",
       "      <td>1.0</td>\n",
       "      <td>1.0</td>\n",
       "      <td>0.0</td>\n",
       "      <td>0.042254</td>\n",
       "      <td>1.0</td>\n",
       "      <td>1.0</td>\n",
       "      <td>0.558706</td>\n",
       "      <td>0.033210</td>\n",
       "      <td>True</td>\n",
       "      <td>...</td>\n",
       "      <td>1.0</td>\n",
       "      <td>0.0</td>\n",
       "      <td>0.0</td>\n",
       "      <td>1.0</td>\n",
       "      <td>0.0</td>\n",
       "      <td>0.0</td>\n",
       "      <td>0.0</td>\n",
       "      <td>0.0</td>\n",
       "      <td>0.0</td>\n",
       "      <td>1.0</td>\n",
       "    </tr>\n",
       "    <tr>\n",
       "      <th>7042</th>\n",
       "      <td>0.0</td>\n",
       "      <td>0.0</td>\n",
       "      <td>0.0</td>\n",
       "      <td>0.0</td>\n",
       "      <td>0.915493</td>\n",
       "      <td>1.0</td>\n",
       "      <td>1.0</td>\n",
       "      <td>0.869652</td>\n",
       "      <td>0.787641</td>\n",
       "      <td>False</td>\n",
       "      <td>...</td>\n",
       "      <td>0.0</td>\n",
       "      <td>0.0</td>\n",
       "      <td>1.0</td>\n",
       "      <td>0.0</td>\n",
       "      <td>0.0</td>\n",
       "      <td>1.0</td>\n",
       "      <td>1.0</td>\n",
       "      <td>0.0</td>\n",
       "      <td>0.0</td>\n",
       "      <td>0.0</td>\n",
       "    </tr>\n",
       "  </tbody>\n",
       "</table>\n",
       "<p>7032 rows × 41 columns</p>\n",
       "</div>"
      ],
      "text/plain": [
       "      gender  SeniorCitizen  Partner  Dependents    tenure  PhoneService  \\\n",
       "0        1.0            0.0      1.0         0.0  0.000000           0.0   \n",
       "1        0.0            0.0      0.0         0.0  0.464789           1.0   \n",
       "2        0.0            0.0      0.0         0.0  0.014085           1.0   \n",
       "3        0.0            0.0      0.0         0.0  0.619718           0.0   \n",
       "4        1.0            0.0      0.0         0.0  0.014085           1.0   \n",
       "...      ...            ...      ...         ...       ...           ...   \n",
       "7038     0.0            0.0      1.0         1.0  0.323944           1.0   \n",
       "7039     1.0            0.0      1.0         1.0  1.000000           1.0   \n",
       "7040     1.0            0.0      1.0         1.0  0.140845           0.0   \n",
       "7041     0.0            1.0      1.0         0.0  0.042254           1.0   \n",
       "7042     0.0            0.0      0.0         0.0  0.915493           1.0   \n",
       "\n",
       "      PaperlessBilling  MonthlyCharges  TotalCharges  Churn  ...  \\\n",
       "0                  1.0        0.115423      0.001275  False  ...   \n",
       "1                  0.0        0.385075      0.215867  False  ...   \n",
       "2                  1.0        0.354229      0.010310   True  ...   \n",
       "3                  0.0        0.239303      0.210241  False  ...   \n",
       "4                  1.0        0.521891      0.015330   True  ...   \n",
       "...                ...             ...           ...    ...  ...   \n",
       "7038               1.0        0.662189      0.227521  False  ...   \n",
       "7039               1.0        0.845274      0.847461  False  ...   \n",
       "7040               1.0        0.112935      0.037809  False  ...   \n",
       "7041               1.0        0.558706      0.033210   True  ...   \n",
       "7042               1.0        0.869652      0.787641  False  ...   \n",
       "\n",
       "      StreamingMovies_No  StreamingMovies_No internet service  \\\n",
       "0                    1.0                                  0.0   \n",
       "1                    1.0                                  0.0   \n",
       "2                    1.0                                  0.0   \n",
       "3                    1.0                                  0.0   \n",
       "4                    1.0                                  0.0   \n",
       "...                  ...                                  ...   \n",
       "7038                 0.0                                  0.0   \n",
       "7039                 0.0                                  0.0   \n",
       "7040                 1.0                                  0.0   \n",
       "7041                 1.0                                  0.0   \n",
       "7042                 0.0                                  0.0   \n",
       "\n",
       "      StreamingMovies_Yes  Contract_Month-to-month  Contract_One year  \\\n",
       "0                     0.0                      1.0                0.0   \n",
       "1                     0.0                      0.0                1.0   \n",
       "2                     0.0                      1.0                0.0   \n",
       "3                     0.0                      0.0                1.0   \n",
       "4                     0.0                      1.0                0.0   \n",
       "...                   ...                      ...                ...   \n",
       "7038                  1.0                      0.0                1.0   \n",
       "7039                  1.0                      0.0                1.0   \n",
       "7040                  0.0                      1.0                0.0   \n",
       "7041                  0.0                      1.0                0.0   \n",
       "7042                  1.0                      0.0                0.0   \n",
       "\n",
       "      Contract_Two year  PaymentMethod_Bank transfer (automatic)  \\\n",
       "0                   0.0                                      0.0   \n",
       "1                   0.0                                      0.0   \n",
       "2                   0.0                                      0.0   \n",
       "3                   0.0                                      1.0   \n",
       "4                   0.0                                      0.0   \n",
       "...                 ...                                      ...   \n",
       "7038                0.0                                      0.0   \n",
       "7039                0.0                                      0.0   \n",
       "7040                0.0                                      0.0   \n",
       "7041                0.0                                      0.0   \n",
       "7042                1.0                                      1.0   \n",
       "\n",
       "      PaymentMethod_Credit card (automatic)  PaymentMethod_Electronic check  \\\n",
       "0                                       0.0                             1.0   \n",
       "1                                       0.0                             0.0   \n",
       "2                                       0.0                             0.0   \n",
       "3                                       0.0                             0.0   \n",
       "4                                       0.0                             1.0   \n",
       "...                                     ...                             ...   \n",
       "7038                                    0.0                             0.0   \n",
       "7039                                    1.0                             0.0   \n",
       "7040                                    0.0                             1.0   \n",
       "7041                                    0.0                             0.0   \n",
       "7042                                    0.0                             0.0   \n",
       "\n",
       "      PaymentMethod_Mailed check  \n",
       "0                            0.0  \n",
       "1                            1.0  \n",
       "2                            1.0  \n",
       "3                            0.0  \n",
       "4                            0.0  \n",
       "...                          ...  \n",
       "7038                         1.0  \n",
       "7039                         0.0  \n",
       "7040                         0.0  \n",
       "7041                         1.0  \n",
       "7042                         0.0  \n",
       "\n",
       "[7032 rows x 41 columns]"
      ]
     },
     "execution_count": 498,
     "metadata": {},
     "output_type": "execute_result"
    }
   ],
   "source": [
    "from sklearn.preprocessing import MinMaxScaler\n",
    "\n",
    "# Create an instance of MinMaxScaler\n",
    "scaler = MinMaxScaler()\n",
    "\n",
    "# Apply normalization to the data, except for the target column (if any)\n",
    "columns_to_normalize = [col for col in churn_df.columns if col != 'Churn']\n",
    "churn_df[columns_to_normalize] = scaler.fit_transform(churn_df[columns_to_normalize])\n",
    "\n",
    "# Visualize the normalized dataframe\n",
    "churn_df"
   ]
  },
  {
   "cell_type": "markdown",
   "metadata": {},
   "source": [
    "### 2.5: Correlation"
   ]
  },
  {
   "cell_type": "code",
   "execution_count": 499,
   "metadata": {},
   "outputs": [
    {
     "data": {
      "text/plain": [
       "Churn                                      1.000000\n",
       "Contract_Month-to-month                    0.404565\n",
       "OnlineSecurity_No                          0.342235\n",
       "TechSupport_No                             0.336877\n",
       "InternetService_Fiber optic                0.307463\n",
       "PaymentMethod_Electronic check             0.301455\n",
       "OnlineBackup_No                            0.267595\n",
       "DeviceProtection_No                        0.252056\n",
       "MonthlyCharges                             0.192858\n",
       "PaperlessBilling                           0.191454\n",
       "SeniorCitizen                              0.150541\n",
       "StreamingMovies_No                         0.130920\n",
       "StreamingTV_No                             0.128435\n",
       "StreamingTV_Yes                            0.063254\n",
       "StreamingMovies_Yes                        0.060860\n",
       "MultipleLines_Yes                          0.040033\n",
       "PhoneService                               0.011691\n",
       "gender                                     0.008545\n",
       "MultipleLines_No phone service            -0.011691\n",
       "MultipleLines_No                          -0.032654\n",
       "DeviceProtection_Yes                      -0.066193\n",
       "OnlineBackup_Yes                          -0.082307\n",
       "PaymentMethod_Mailed check                -0.090773\n",
       "PaymentMethod_Bank transfer (automatic)   -0.118136\n",
       "InternetService_DSL                       -0.124141\n",
       "PaymentMethod_Credit card (automatic)     -0.134687\n",
       "Partner                                   -0.149982\n",
       "Dependents                                -0.163128\n",
       "TechSupport_Yes                           -0.164716\n",
       "OnlineSecurity_Yes                        -0.171270\n",
       "Contract_One year                         -0.178225\n",
       "TotalCharges                              -0.199484\n",
       "DeviceProtection_No internet service      -0.227578\n",
       "StreamingMovies_No internet service       -0.227578\n",
       "StreamingTV_No internet service           -0.227578\n",
       "InternetService_No                        -0.227578\n",
       "TechSupport_No internet service           -0.227578\n",
       "OnlineSecurity_No internet service        -0.227578\n",
       "OnlineBackup_No internet service          -0.227578\n",
       "Contract_Two year                         -0.301552\n",
       "tenure                                    -0.354049\n",
       "Name: Churn, dtype: float64"
      ]
     },
     "execution_count": 499,
     "metadata": {},
     "output_type": "execute_result"
    }
   ],
   "source": [
    "# Calculating the correlation matrix\n",
    "correlation_matrix = churn_df.corr()\n",
    "\n",
    "# Extracting correlations with the 'Churn' column\n",
    "churn_correlation = correlation_matrix['Churn'].sort_values(ascending=False)\n",
    "\n",
    "# Displaying the correlations\n",
    "churn_correlation"
   ]
  },
  {
   "cell_type": "code",
   "execution_count": 500,
   "metadata": {},
   "outputs": [
    {
     "name": "stdout",
     "output_type": "stream",
     "text": [
      "Top 10 variables with the highest positive correlation with 'Churn':\n",
      "Churn                             1.000000\n",
      "Contract_Month-to-month           0.404565\n",
      "OnlineSecurity_No                 0.342235\n",
      "TechSupport_No                    0.336877\n",
      "InternetService_Fiber optic       0.307463\n",
      "PaymentMethod_Electronic check    0.301455\n",
      "OnlineBackup_No                   0.267595\n",
      "DeviceProtection_No               0.252056\n",
      "MonthlyCharges                    0.192858\n",
      "PaperlessBilling                  0.191454\n",
      "Name: Churn, dtype: float64\n",
      "\n",
      "Top 10 variables with the highest negative correlation with 'Churn':\n",
      "tenure                                 -0.354049\n",
      "Contract_Two year                      -0.301552\n",
      "DeviceProtection_No internet service   -0.227578\n",
      "StreamingMovies_No internet service    -0.227578\n",
      "StreamingTV_No internet service        -0.227578\n",
      "InternetService_No                     -0.227578\n",
      "TechSupport_No internet service        -0.227578\n",
      "OnlineSecurity_No internet service     -0.227578\n",
      "OnlineBackup_No internet service       -0.227578\n",
      "TotalCharges                           -0.199484\n",
      "Name: Churn, dtype: float64\n"
     ]
    }
   ],
   "source": [
    "# Displaying the top 10 variables with the highest positive correlation with 'Churn'\n",
    "print(\"Top 10 variables with the highest positive correlation with 'Churn':\")\n",
    "print(churn_correlation.nlargest(10))\n",
    "\n",
    "# Displaying the top 10 variables with the highest negative correlation with 'Churn'\n",
    "print(\"\\nTop 10 variables with the highest negative correlation with 'Churn':\")\n",
    "print(churn_correlation.nsmallest(10))"
   ]
  },
  {
   "cell_type": "markdown",
   "metadata": {},
   "source": [
    "- Checking Features with More Correlation"
   ]
  },
  {
   "cell_type": "code",
   "execution_count": 501,
   "metadata": {},
   "outputs": [
    {
     "data": {
      "image/png": "[encoded data removed]",
      "text/plain": [
       "<Figure size 1800x1000 with 6 Axes>"
      ]
     },
     "metadata": {},
     "output_type": "display_data"
    }
   ],
   "source": [
    "# Creating a copy of the DataFrame\n",
    "churn_df_copy = churn_df_raw.copy()\n",
    "\n",
    "# Replacing category values with abbreviations\n",
    "churn_df_copy['PaymentMethod'] = churn_df_copy['PaymentMethod'].replace({\n",
    "    'Electronic check': 'E-check',\n",
    "    'Mailed check': 'M-check',\n",
    "    'Bank transfer (automatic)': 'Bank transfer',\n",
    "    'Credit card (automatic)': 'Credit card'\n",
    "})\n",
    "\n",
    "# Defining the colors 'orange' and 'blue'\n",
    "colors = ['#5DA5DA', '#FAA43A']\n",
    "\n",
    "# List of categories\n",
    "categories = ['Contract', 'OnlineSecurity', 'TechSupport', 'InternetService', 'PaymentMethod', 'OnlineBackup']\n",
    "\n",
    "# Creating the subplot grid\n",
    "fig, axes = plt.subplots(nrows=2, ncols=3, figsize=(18, 10))\n",
    "\n",
    "# Adjusting the layout\n",
    "fig.subplots_adjust(hspace=0.4, wspace=0.4)\n",
    "\n",
    "# Iterating over categories and plotting bar charts\n",
    "for i, category in enumerate(categories):\n",
    "    row = i // 3\n",
    "    col = i % 3\n",
    "    ax = axes[row, col]\n",
    "    sns.countplot(x=category, hue='Churn', data=churn_df_copy, ax=ax, palette=colors)\n",
    "    ax.set_title(f'Churn Distribution by {category}')\n",
    "    ax.set_xlabel(category)\n",
    "    ax.set_ylabel('Count')\n",
    "    ax.legend(title='Churn', labels=['No', 'Yes'])\n",
    "\n",
    "# # Save the plot as an image file (e.g., PNG)\n",
    "# plt.savefig('subplot_churn_distribution.png', bbox_inches='tight')\n",
    "\n",
    "# Displaying the plots\n",
    "plt.show()"
   ]
  },
  {
   "cell_type": "code",
   "execution_count": 502,
   "metadata": {},
   "outputs": [
    {
     "name": "stdout",
     "output_type": "stream",
     "text": [
      "Columns removed:\n",
      "Index(['MultipleLines_Yes', 'PhoneService', 'gender',\n",
      "       'MultipleLines_No phone service', 'MultipleLines_No'],\n",
      "      dtype='object')\n"
     ]
    }
   ],
   "source": [
    "# Setting the correlation threshold below which features will be removed\n",
    "correlation_limit = 0.05  # You can adjust this value as needed\n",
    "\n",
    "# Selecting columns with correlations lower than the defined limit\n",
    "columns_to_remove = churn_correlation[abs(churn_correlation) < correlation_limit].index\n",
    "\n",
    "# Removing selected columns from the balanced dataset\n",
    "churn_df = churn_df.drop(columns=columns_to_remove)\n",
    "\n",
    "# Printing the columns that were removed\n",
    "print(\"Columns removed:\")\n",
    "print(columns_to_remove)"
   ]
  },
  {
   "cell_type": "code",
   "execution_count": 503,
   "metadata": {},
   "outputs": [],
   "source": [
    "# # Save churn_df to an csv file\n",
    "# churn_df.to_csv('Churn clean data.csv', index=False)\n",
    "\n",
    "# # Save churn_df to an excel file\n",
    "# churn_df.to_excel('Churn clean data.xlsx', index=False)"
   ]
  },
  {
   "cell_type": "markdown",
   "metadata": {},
   "source": [
    "### 2.6: Train Test Split"
   ]
  },
  {
   "cell_type": "markdown",
   "metadata": {},
   "source": [
    "- Normal"
   ]
  },
  {
   "cell_type": "code",
   "execution_count": 504,
   "metadata": {},
   "outputs": [
    {
     "name": "stdout",
     "output_type": "stream",
     "text": [
      "Shape of training set: (4218, 35) (4218,)\n",
      "Shape of validation set: (1407, 35) (1407,)\n",
      "Shape of test set: (1407, 35) (1407,)\n"
     ]
    }
   ],
   "source": [
    "from sklearn.model_selection import train_test_split\n",
    "\n",
    "# Extracting features (X) and target (y) from the DataFrame\n",
    "X = churn_df.drop(columns=['Churn'])\n",
    "y = churn_df['Churn']\n",
    "\n",
    "# Splitting the data into training and test sets with stratification\n",
    "X_train_val, X_test, y_train_val, y_test = train_test_split(X, y, test_size=0.2, stratify=y, random_state=42)\n",
    "X_train, X_val, y_train, y_val = train_test_split(X_train_val, y_train_val, test_size=0.25, random_state=42)  # Splitting again to obtain the validation set\n",
    "\n",
    "# Displaying the shapes of the resulting datasets\n",
    "print(\"Shape of training set:\", X_train.shape, y_train.shape)\n",
    "print(\"Shape of validation set:\", X_val.shape, y_val.shape)\n",
    "print(\"Shape of test set:\", X_test.shape, y_test.shape)"
   ]
  },
  {
   "cell_type": "code",
   "execution_count": 505,
   "metadata": {},
   "outputs": [
    {
     "data": {
      "text/plain": [
       "(Churn\n",
       " False    3087\n",
       " True     1131\n",
       " Name: count, dtype: int64,\n",
       " Churn\n",
       " False    1043\n",
       " True      364\n",
       " Name: count, dtype: int64,\n",
       " Churn\n",
       " False    1033\n",
       " True      374\n",
       " Name: count, dtype: int64)"
      ]
     },
     "execution_count": 505,
     "metadata": {},
     "output_type": "execute_result"
    }
   ],
   "source": [
    "# Counting the occurrences of each class in the training, validation, and test set\n",
    "pd.Series(y_train).value_counts(), pd.Series(y_val).value_counts(), pd.Series(y_test).value_counts()"
   ]
  },
  {
   "cell_type": "markdown",
   "metadata": {},
   "source": [
    "- Undersampling"
   ]
  },
  {
   "cell_type": "code",
   "execution_count": 506,
   "metadata": {},
   "outputs": [
    {
     "name": "stdout",
     "output_type": "stream",
     "text": [
      "Shape of training set after undersampling: (2262, 35) (2262,)\n"
     ]
    }
   ],
   "source": [
    "from imblearn.under_sampling import RandomUnderSampler\n",
    "\n",
    "# Create the sampler for undersampling\n",
    "undersampler = RandomUnderSampler(random_state=42)\n",
    "\n",
    "# Apply undersampling only to the training set\n",
    "X_train_us, y_train_us = undersampler.fit_resample(X_train, y_train)\n",
    "\n",
    "print(\"Shape of training set after undersampling:\", X_train_us.shape, y_train_us.shape)"
   ]
  },
  {
   "cell_type": "code",
   "execution_count": 507,
   "metadata": {},
   "outputs": [
    {
     "data": {
      "text/plain": [
       "Churn\n",
       "False    1131\n",
       "True     1131\n",
       "Name: count, dtype: int64"
      ]
     },
     "execution_count": 507,
     "metadata": {},
     "output_type": "execute_result"
    }
   ],
   "source": [
    "# Counting the occurrences of each class in the training, validation, and test set\n",
    "pd.Series(y_train_us).value_counts()"
   ]
  },
  {
   "cell_type": "markdown",
   "metadata": {},
   "source": [
    "- SMOTE"
   ]
  },
  {
   "cell_type": "code",
   "execution_count": 508,
   "metadata": {},
   "outputs": [],
   "source": [
    "from imblearn.over_sampling import SMOTE\n",
    "\n",
    "# Apply SMOTE only on the training set to address class imbalance\n",
    "smote = SMOTE(random_state=42)\n",
    "X_train_smote, y_train_smote = smote.fit_resample(X_train, y_train)"
   ]
  },
  {
   "cell_type": "code",
   "execution_count": 509,
   "metadata": {},
   "outputs": [
    {
     "data": {
      "text/plain": [
       "Churn\n",
       "False    3087\n",
       "True     3087\n",
       "Name: count, dtype: int64"
      ]
     },
     "execution_count": 509,
     "metadata": {},
     "output_type": "execute_result"
    }
   ],
   "source": [
    "# Counting the occurrences of each class in the training, validation, and test set\n",
    "pd.Series(y_train_smote).value_counts()"
   ]
  },
  {
   "cell_type": "markdown",
   "metadata": {},
   "source": [
    "# Chapter 3: Building Machine Learning Models"
   ]
  },
  {
   "cell_type": "markdown",
   "metadata": {},
   "source": [
    "### 3.1: Logistic Regression"
   ]
  },
  {
   "cell_type": "markdown",
   "metadata": {},
   "source": [
    "- Normal"
   ]
  },
  {
   "cell_type": "code",
   "execution_count": 510,
   "metadata": {},
   "outputs": [
    {
     "name": "stdout",
     "output_type": "stream",
     "text": [
      "              precision    recall  f1-score   support\n",
      "\n",
      "   Not Churn       0.85      0.89      0.87      1043\n",
      "       Churn       0.65      0.55      0.60       364\n",
      "\n",
      "    accuracy                           0.81      1407\n",
      "   macro avg       0.75      0.72      0.73      1407\n",
      "weighted avg       0.80      0.81      0.80      1407\n",
      "\n"
     ]
    }
   ],
   "source": [
    "from sklearn.linear_model import LogisticRegression\n",
    "from sklearn.metrics import classification_report\n",
    "\n",
    "# Instantiate logistic regression model\n",
    "logistic_model = LogisticRegression(random_state=42)\n",
    "\n",
    "# Train the logistic regression model\n",
    "logistic_model.fit(X_train, y_train)\n",
    "\n",
    "# Generate classification report for the original imbalanced validation set\n",
    "print(classification_report(y_val, logistic_model.predict(X_val), target_names=['Not Churn', 'Churn']))"
   ]
  },
  {
   "cell_type": "markdown",
   "metadata": {},
   "source": [
    "- Undersampling"
   ]
  },
  {
   "cell_type": "code",
   "execution_count": 511,
   "metadata": {},
   "outputs": [
    {
     "name": "stdout",
     "output_type": "stream",
     "text": [
      "              precision    recall  f1-score   support\n",
      "\n",
      "   Not Churn       0.92      0.72      0.80      1043\n",
      "       Churn       0.50      0.81      0.62       364\n",
      "\n",
      "    accuracy                           0.74      1407\n",
      "   macro avg       0.71      0.76      0.71      1407\n",
      "weighted avg       0.81      0.74      0.76      1407\n",
      "\n"
     ]
    }
   ],
   "source": [
    "# Train the logistic regression model \n",
    "logistic_model.fit(X_train_us, y_train_us)\n",
    "\n",
    "# Generate classification report for the original imbalanced validation set\n",
    "print(classification_report(y_val, logistic_model.predict(X_val), target_names=['Not Churn', 'Churn']))"
   ]
  },
  {
   "cell_type": "markdown",
   "metadata": {},
   "source": [
    "- SMOTE"
   ]
  },
  {
   "cell_type": "code",
   "execution_count": 512,
   "metadata": {},
   "outputs": [
    {
     "name": "stdout",
     "output_type": "stream",
     "text": [
      "              precision    recall  f1-score   support\n",
      "\n",
      "   Not Churn       0.92      0.72      0.81      1043\n",
      "       Churn       0.51      0.82      0.62       364\n",
      "\n",
      "    accuracy                           0.75      1407\n",
      "   macro avg       0.71      0.77      0.72      1407\n",
      "weighted avg       0.81      0.75      0.76      1407\n",
      "\n"
     ]
    }
   ],
   "source": [
    "# Train the logistic regression model\n",
    "logistic_model.fit(X_train_smote, y_train_smote)\n",
    "\n",
    "# Generate classification report for the original imbalanced validation set\n",
    "print(classification_report(y_val, logistic_model.predict(X_val), target_names=['Not Churn', 'Churn']))"
   ]
  },
  {
   "cell_type": "markdown",
   "metadata": {},
   "source": [
    "### 3.2: Random Forest"
   ]
  },
  {
   "cell_type": "markdown",
   "metadata": {},
   "source": [
    "- Normal"
   ]
  },
  {
   "cell_type": "code",
   "execution_count": 513,
   "metadata": {},
   "outputs": [
    {
     "name": "stdout",
     "output_type": "stream",
     "text": [
      "              precision    recall  f1-score   support\n",
      "\n",
      "   Not Churn       0.84      0.90      0.87      1043\n",
      "       Churn       0.63      0.50      0.56       364\n",
      "\n",
      "    accuracy                           0.79      1407\n",
      "   macro avg       0.73      0.70      0.71      1407\n",
      "weighted avg       0.78      0.79      0.79      1407\n",
      "\n"
     ]
    }
   ],
   "source": [
    "from sklearn.ensemble import RandomForestClassifier\n",
    "\n",
    "# Instantiate Random Forest classifier\n",
    "rf = RandomForestClassifier(\n",
    "    max_depth=None,\n",
    "    min_samples_leaf=2,\n",
    "    min_samples_split=5,\n",
    "    n_estimators=50,\n",
    "    random_state=42\n",
    ")\n",
    "\n",
    "# Train the Random Forest classifier \n",
    "rf.fit(X_train, y_train)\n",
    "\n",
    "# Generate classification report for the original imbalanced validation set\n",
    "print(classification_report(y_val, rf.predict(X_val), target_names=['Not Churn', 'Churn']))"
   ]
  },
  {
   "cell_type": "markdown",
   "metadata": {},
   "source": [
    "- Undersampling"
   ]
  },
  {
   "cell_type": "code",
   "execution_count": 514,
   "metadata": {},
   "outputs": [
    {
     "name": "stdout",
     "output_type": "stream",
     "text": [
      "              precision    recall  f1-score   support\n",
      "\n",
      "   Not Churn       0.91      0.73      0.81      1043\n",
      "       Churn       0.51      0.80      0.62       364\n",
      "\n",
      "    accuracy                           0.75      1407\n",
      "   macro avg       0.71      0.76      0.72      1407\n",
      "weighted avg       0.81      0.75      0.76      1407\n",
      "\n"
     ]
    }
   ],
   "source": [
    "# Train the Random Forest classifier \n",
    "rf.fit(X_train_us, y_train_us)\n",
    "\n",
    "# Generate classification report for the original imbalanced validation set\n",
    "print(classification_report(y_val, rf.predict(X_val), target_names=['Not Churn', 'Churn']))"
   ]
  },
  {
   "cell_type": "code",
   "execution_count": 515,
   "metadata": {},
   "outputs": [],
   "source": [
    "# from sklearn.model_selection import GridSearchCV\n",
    "# from sklearn.ensemble import RandomForestClassifier\n",
    "# from sklearn.metrics import classification_report\n",
    "\n",
    "# # Define the hyperparameters you want to adjust, including the original hyperparameters\n",
    "# param_grid = {\n",
    "#     'n_estimators': [50, 100, 150],\n",
    "#     'max_depth': [None, 10, 20],\n",
    "#     'min_samples_split': [2, 5, 10],\n",
    "#     'min_samples_leaf': [1, 2, 4],\n",
    "#     'random_state': [42],\n",
    "# }\n",
    "\n",
    "# # Create a Random Forest classifier\n",
    "# rf = RandomForestClassifier()\n",
    "\n",
    "# # Create a GridSearchCV object\n",
    "# grid_search = GridSearchCV(rf, param_grid, cv=5, scoring='f1', n_jobs=-1)\n",
    "\n",
    "# # Train the model using the imbalanced dataset\n",
    "# grid_search.fit(X_train_us, y_train_us)\n",
    "\n",
    "# # Print the best hyperparameters found\n",
    "# print(\"Best hyperparameters:\", grid_search.best_params_)\n",
    "\n",
    "# # Generate the classification report for the original validation set\n",
    "# print(\"Classification Report:\")\n",
    "# print(classification_report(y_val, grid_search.best_estimator_.predict(X_val), target_names=['Not Churn', 'Churn']))"
   ]
  },
  {
   "cell_type": "markdown",
   "metadata": {},
   "source": [
    "- SMOTE"
   ]
  },
  {
   "cell_type": "code",
   "execution_count": 516,
   "metadata": {},
   "outputs": [
    {
     "name": "stdout",
     "output_type": "stream",
     "text": [
      "              precision    recall  f1-score   support\n",
      "\n",
      "   Not Churn       0.88      0.81      0.84      1043\n",
      "       Churn       0.55      0.67      0.61       364\n",
      "\n",
      "    accuracy                           0.77      1407\n",
      "   macro avg       0.71      0.74      0.72      1407\n",
      "weighted avg       0.79      0.77      0.78      1407\n",
      "\n"
     ]
    }
   ],
   "source": [
    "# Train the Random Forest classifier \n",
    "rf.fit(X_train_smote, y_train_smote)\n",
    "\n",
    "# Generate classification report for the original imbalanced validation set\n",
    "print(classification_report(y_val, rf.predict(X_val), target_names=['Not Churn', 'Churn']))"
   ]
  },
  {
   "cell_type": "markdown",
   "metadata": {},
   "source": [
    "### 3.3: Gradient Boosting"
   ]
  },
  {
   "cell_type": "markdown",
   "metadata": {},
   "source": [
    "- Normal"
   ]
  },
  {
   "cell_type": "code",
   "execution_count": 517,
   "metadata": {},
   "outputs": [
    {
     "name": "stdout",
     "output_type": "stream",
     "text": [
      "              precision    recall  f1-score   support\n",
      "\n",
      "   Not Churn       0.85      0.91      0.88      1043\n",
      "       Churn       0.67      0.53      0.59       364\n",
      "\n",
      "    accuracy                           0.81      1407\n",
      "   macro avg       0.76      0.72      0.73      1407\n",
      "weighted avg       0.80      0.81      0.80      1407\n",
      "\n"
     ]
    }
   ],
   "source": [
    "from sklearn.ensemble import GradientBoostingClassifier\n",
    "\n",
    "# Instantiate Gradient Boosting classifier with specified hyperparameters\n",
    "gbc = GradientBoostingClassifier(learning_rate=0.1, n_estimators=50, random_state=42)\n",
    "\n",
    "# Train the Gradient Boosting classifier \n",
    "gbc.fit(X_train, y_train)\n",
    "\n",
    "# Generate classification report for the original imbalanced validation set\n",
    "print(classification_report(y_val, gbc.predict(X_val), target_names=['Not Churn', 'Churn']))"
   ]
  },
  {
   "cell_type": "markdown",
   "metadata": {},
   "source": [
    "- Undersampling"
   ]
  },
  {
   "cell_type": "code",
   "execution_count": 518,
   "metadata": {},
   "outputs": [
    {
     "name": "stdout",
     "output_type": "stream",
     "text": [
      "              precision    recall  f1-score   support\n",
      "\n",
      "   Not Churn       0.93      0.72      0.81      1043\n",
      "       Churn       0.51      0.84      0.63       364\n",
      "\n",
      "    accuracy                           0.75      1407\n",
      "   macro avg       0.72      0.78      0.72      1407\n",
      "weighted avg       0.82      0.75      0.76      1407\n",
      "\n"
     ]
    }
   ],
   "source": [
    "# Train the Gradient Boosting classifier\n",
    "gbc.fit(X_train_us, y_train_us)\n",
    "\n",
    "# Generate classification report for the original imbalanced validation set\n",
    "print(classification_report(y_val, gbc.predict(X_val), target_names=['Not Churn', 'Churn']))"
   ]
  },
  {
   "cell_type": "code",
   "execution_count": 519,
   "metadata": {},
   "outputs": [],
   "source": [
    "# from sklearn.model_selection import GridSearchCV\n",
    "# from sklearn.ensemble import GradientBoostingClassifier\n",
    "# from sklearn.metrics import classification_report\n",
    "\n",
    "# # Define the hyperparameters you want to adjust\n",
    "# param_grid = {\n",
    "#     'n_estimators': [50, 100, 150],\n",
    "#     'learning_rate': [0.05, 0.1, 0.2],\n",
    "#     # Add other hyperparameters you want to adjust here\n",
    "# }\n",
    "\n",
    "# # Create a Gradient Boosting classifier\n",
    "# gbc = GradientBoostingClassifier(random_state=42)\n",
    "\n",
    "# # Create a GridSearchCV object\n",
    "# grid_search = GridSearchCV(gbc, param_grid, cv=5, scoring='f1', n_jobs=-1)\n",
    "\n",
    "# # Train the model using the imbalanced dataset\n",
    "# grid_search.fit(X_train_us, y_train_us)\n",
    "\n",
    "# # Print the best hyperparameters found\n",
    "# print(\"Best hyperparameters:\", grid_search.best_params_)\n",
    "\n",
    "# # Generate the classification report for the original validation set\n",
    "# print(\"Classification Report:\")\n",
    "# print(classification_report(y_val, grid_search.best_estimator_.predict(X_val), target_names=['Not Churn', 'Churn']))"
   ]
  },
  {
   "cell_type": "markdown",
   "metadata": {},
   "source": [
    "- SMOTE"
   ]
  },
  {
   "cell_type": "code",
   "execution_count": 520,
   "metadata": {},
   "outputs": [
    {
     "name": "stdout",
     "output_type": "stream",
     "text": [
      "              precision    recall  f1-score   support\n",
      "\n",
      "   Not Churn       0.90      0.78      0.83      1043\n",
      "       Churn       0.54      0.76      0.63       364\n",
      "\n",
      "    accuracy                           0.77      1407\n",
      "   macro avg       0.72      0.77      0.73      1407\n",
      "weighted avg       0.81      0.77      0.78      1407\n",
      "\n"
     ]
    }
   ],
   "source": [
    "# Train the Gradient Boosting classifier \n",
    "gbc.fit(X_train_smote, y_train_smote)\n",
    "\n",
    "# Generate classification report for the original imbalanced validation set\n",
    "print(classification_report(y_val, gbc.predict(X_val), target_names=['Not Churn', 'Churn']))"
   ]
  },
  {
   "cell_type": "markdown",
   "metadata": {},
   "source": [
    "### 3.4: SVC"
   ]
  },
  {
   "cell_type": "code",
   "execution_count": 521,
   "metadata": {},
   "outputs": [
    {
     "name": "stderr",
     "output_type": "stream",
     "text": [
      "C:\\Users\\yamas\\AppData\\Roaming\\Python\\Python312\\site-packages\\sklearn\\svm\\_classes.py:31: FutureWarning: The default value of `dual` will change from `True` to `'auto'` in 1.5. Set the value of `dual` explicitly to suppress the warning.\n",
      "  warnings.warn(\n"
     ]
    },
    {
     "name": "stdout",
     "output_type": "stream",
     "text": [
      "              precision    recall  f1-score   support\n",
      "\n",
      "   Not Churn       0.92      0.71      0.80      1043\n",
      "       Churn       0.50      0.82      0.62       364\n",
      "\n",
      "    accuracy                           0.74      1407\n",
      "   macro avg       0.71      0.77      0.71      1407\n",
      "weighted avg       0.81      0.74      0.76      1407\n",
      "\n"
     ]
    }
   ],
   "source": [
    "from sklearn.svm import LinearSVC\n",
    "\n",
    "# Instantiate Support Vector Classifier \n",
    "svc = LinearSVC(class_weight='balanced', random_state=42)\n",
    "\n",
    "# Train the Support Vector Classifier\n",
    "svc.fit(X_train, y_train)\n",
    "\n",
    "# Generate classification report for the original imbalanced validation set\n",
    "print(classification_report(y_val, svc.predict(X_val), target_names=['Not Churn', 'Churn']))"
   ]
  },
  {
   "cell_type": "markdown",
   "metadata": {},
   "source": [
    "The Support Vector Classifier (SVC) model was constructed without undersampling or SMOTE techniques as they were considered unnecessary for this particular dataset. The inherent characteristics of the data, in conjunction with the algorithm's robustness, made such balancing methods unnecessary. Therefore, the SVC model was trained using the original imbalanced dataset, achieving satisfactory performance without the need for additional sampling strategies."
   ]
  },
  {
   "cell_type": "markdown",
   "metadata": {},
   "source": [
    "### 3.5: Sequential Neural Network"
   ]
  },
  {
   "cell_type": "code",
   "execution_count": 522,
   "metadata": {},
   "outputs": [
    {
     "name": "stderr",
     "output_type": "stream",
     "text": [
      "C:\\Users\\yamas\\AppData\\Roaming\\Python\\Python312\\site-packages\\keras\\src\\layers\\core\\dense.py:86: UserWarning: Do not pass an `input_shape`/`input_dim` argument to a layer. When using Sequential models, prefer using an `Input(shape)` object as the first layer in the model instead.\n",
      "  super().__init__(activity_regularizer=activity_regularizer, **kwargs)\n"
     ]
    },
    {
     "name": "stdout",
     "output_type": "stream",
     "text": [
      "\u001b[1m44/44\u001b[0m \u001b[32m━━━━━━━━━━━━━━━━━━━━\u001b[0m\u001b[37m\u001b[0m \u001b[1m0s\u001b[0m 907us/step - accuracy: 0.7388 - loss: 0.5245\n",
      "Loss: 0.5141503810882568\n",
      "Accuracy: 0.7491115927696228\n"
     ]
    }
   ],
   "source": [
    "import tensorflow as tf\n",
    "from tensorflow.keras.models import Sequential\n",
    "from tensorflow.keras.layers import Dense, Dropout\n",
    "\n",
    "# Building the neural network\n",
    "model_nn = Sequential([\n",
    "    Dense(64, activation='relu', input_shape=(X_train.shape[1],)),\n",
    "    Dropout(0.5),  # Dropout for regularization\n",
    "    Dense(32, activation='relu'),\n",
    "    Dropout(0.5),\n",
    "    Dense(1, activation='sigmoid')  # Output layer with sigmoid activation for binary classification\n",
    "])\n",
    "\n",
    "# Compiling the model\n",
    "model_nn.compile(optimizer='adam',\n",
    "              loss='binary_crossentropy',\n",
    "              metrics=['accuracy'])\n",
    "\n",
    "# Training the model\n",
    "history = model_nn.fit(X_train_us, y_train_us, epochs=50, batch_size=64, validation_data=(X_val, y_val), verbose=0)\n",
    "\n",
    "# Evaluating the model\n",
    "evaluation = model_nn.evaluate(X_val, y_val)\n",
    "print(\"Loss:\", evaluation[0])\n",
    "print(\"Accuracy:\", evaluation[1])"
   ]
  },
  {
   "cell_type": "code",
   "execution_count": 523,
   "metadata": {},
   "outputs": [
    {
     "name": "stdout",
     "output_type": "stream",
     "text": [
      "\u001b[1m44/44\u001b[0m \u001b[32m━━━━━━━━━━━━━━━━━━━━\u001b[0m\u001b[37m\u001b[0m \u001b[1m0s\u001b[0m 2ms/step\n",
      "              precision    recall  f1-score   support\n",
      "\n",
      "   Not Churn       0.91      0.73      0.81      1043\n",
      "       Churn       0.51      0.80      0.62       364\n",
      "\n",
      "    accuracy                           0.75      1407\n",
      "   macro avg       0.71      0.77      0.72      1407\n",
      "weighted avg       0.81      0.75      0.76      1407\n",
      "\n"
     ]
    }
   ],
   "source": [
    "# Model predictions for the validation set\n",
    "y_pred_prob = model_nn.predict(X_val)\n",
    "\n",
    "# Thresholding probabilities to obtain predicted classes\n",
    "y_pred = (y_pred_prob > 0.5).astype(int)\n",
    "\n",
    "# Generate the classification report\n",
    "print(classification_report(y_val, y_pred, target_names=['Not Churn', 'Churn']))"
   ]
  },
  {
   "cell_type": "markdown",
   "metadata": {},
   "source": [
    "# Chapter 4: Testing Model and Conclusion"
   ]
  },
  {
   "cell_type": "code",
   "execution_count": 524,
   "metadata": {},
   "outputs": [
    {
     "name": "stdout",
     "output_type": "stream",
     "text": [
      "              precision    recall  f1-score   support\n",
      "\n",
      "   Not Churn       0.92      0.70      0.80      1033\n",
      "       Churn       0.50      0.82      0.62       374\n",
      "\n",
      "    accuracy                           0.73      1407\n",
      "   macro avg       0.71      0.76      0.71      1407\n",
      "weighted avg       0.81      0.73      0.75      1407\n",
      "\n"
     ]
    }
   ],
   "source": [
    "import pickle\n",
    "\n",
    "# Train the Gradient Boosting classifier\n",
    "gbc.fit(X_train_us, y_train_us)\n",
    "\n",
    "# # Save the trained model to a file\n",
    "# with open('gradient_boosting_model.pkl', 'wb') as file:\n",
    "#     pickle.dump(gbc, file)\n",
    "\n",
    "# Generate classification report for the original imbalanced validation set\n",
    "print(classification_report(y_test, gbc.predict(X_test), target_names=['Not Churn', 'Churn']))"
   ]
  },
  {
   "cell_type": "markdown",
   "metadata": {},
   "source": [
    "Based on the classification report, the model achieved a relatively high recall of 82% for the 'Churn' class, indicating that it correctly identified 82% of the churn instances. However, the precision for the 'Churn' class was 50%, signifying that only half of the predicted churn instances were actually true churn cases. Consequently, users may receive approximately two notifications, one of which is accurate while the other is a false positive."
   ]
  }
 ],
 "metadata": {
  "kernelspec": {
   "display_name": "Python 3",
   "language": "python",
   "name": "python3"
  },
  "language_info": {
   "codemirror_mode": {
    "name": "ipython",
    "version": 3
   },
   "file_extension": ".py",
   "mimetype": "text/x-python",
   "name": "python",
   "nbconvert_exporter": "python",
   "pygments_lexer": "ipython3",
   "version": "3.12.3"
  }
 },
 "nbformat": 4,
 "nbformat_minor": 2
}
